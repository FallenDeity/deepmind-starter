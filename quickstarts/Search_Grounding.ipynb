{
 "cells": [
  {
   "attachments": {},
   "cell_type": "markdown",
   "metadata": {},
   "source": [
    "# Gemini API: Grounding using Search as a tool\n",
    "\n",
    "In this notebook you will learn how to use the new Google Search tool available in [Gemini](https://ai.google.dev/gemini-api/docs/models), using both the unary API and the Multimodal Live API. Check out the docs to learn more about using [Search as a tool](https://ai.google.dev/gemini-api/docs/google-search).\n"
   ]
  },
  {
   "attachments": {},
   "cell_type": "markdown",
   "metadata": {},
   "source": [
    "## Setup\n",
    "\n",
    "### Install the Google GenAI SDK\n",
    "\n",
    "Install the Google GenAI SDK from [npm](https://www.npmjs.com/package/@google/genai). \n",
    "\n",
    "```bash\n",
    "$ npm install @google/genai\n",
    "```"
   ]
  },
  {
   "attachments": {},
   "cell_type": "markdown",
   "metadata": {},
   "source": [
    "### Setup your API key\n",
    "\n",
    "You can [create](https://aistudio.google.com/app/apikey) your API key using Google AI Studio with a single click.\n",
    "\n",
    "Remember to treat your API key like a password. Don't accidentally save it in a notebook or source file you later commit to GitHub. In this notebook we will be storing the API key in a `.env` file. You can also set it as an environment variable or use a secret manager. \n",
    "\n",
    "Here's how to set it up in a `.env` file:\n",
    "\n",
    "```bash\n",
    "$ touch .env\n",
    "$ echo \"GEMINI_API_KEY=<YOUR_API_KEY>\" >> .env\n",
    "```\n",
    "\n",
    ":::{.callout-tip}\n",
    "\n",
    "Another option is to set the API key as an environment variable. You can do this in your terminal with the following command:\n",
    "\n",
    "```bash\n",
    "$ export GEMINI_API_KEY=\"<YOUR_API_KEY>\"\n",
    "```\n",
    ":::\n",
    "\n",
    "### Load the API key\n",
    "\n",
    "To load the API key from the `.env` file, we will use the `dotenv` package. This package loads environment variables from a `.env` file into `process.env`. \n",
    "\n",
    "```bash\n",
    "$ npm install dotenv\n",
    "```\n",
    "\n",
    "Then, we can load the API key in our code:\n"
   ]
  },
  {
   "cell_type": "code",
   "execution_count": 1,
   "metadata": {},
   "outputs": [
    {
     "name": "stdout",
     "output_type": "stream",
     "text": [
      "GEMINI_API_KEY is set in the environment variables\n"
     ]
    }
   ],
   "source": [
    "const dotenv = require(\"dotenv\") as typeof import(\"dotenv\");\n",
    "\n",
    "dotenv.config({\n",
    "  path: \"../.env\",\n",
    "});\n",
    "\n",
    "const GEMINI_API_KEY = process.env.GEMINI_API_KEY ?? \"\";\n",
    "if (!GEMINI_API_KEY) {\n",
    "  throw new Error(\"GEMINI_API_KEY is not set in the environment variables\");\n",
    "}\n",
    "console.log(\"GEMINI_API_KEY is set in the environment variables\");\n"
   ]
  },
  {
   "attachments": {},
   "cell_type": "markdown",
   "metadata": {},
   "source": [
    ":::{.callout-note}\n",
    "In our particular case the `.env` is is one directory up from the notebook, hence we need to use `../` to go up one directory. If the `.env` file is in the same directory as the notebook, you can omit it altogether. \n",
    "\n",
    "```\n",
    "\u2502\n",
    "\u251c\u2500\u2500 .env\n",
    "\u2514\u2500\u2500 quickstarts\n",
    "    \u2514\u2500\u2500 Search_Grounding.ipynb\n",
    "```\n",
    ":::\n"
   ]
  },
  {
   "attachments": {},
   "cell_type": "markdown",
   "metadata": {},
   "source": [
    "### Initialize SDK Client\n",
    "\n",
    "With the new SDK, now you only need to initialize a client with you API key (or OAuth if using [Vertex AI](https://cloud.google.com/vertex-ai)). The model is now set in each call.\n"
   ]
  },
  {
   "cell_type": "code",
   "execution_count": 3,
   "metadata": {},
   "outputs": [],
   "source": [
    "const google = require(\"@google/genai\") as typeof import(\"@google/genai\");\n",
    "\n",
    "const ai = new google.GoogleGenAI({ apiKey: GEMINI_API_KEY });\n"
   ]
  },
  {
   "attachments": {},
   "cell_type": "markdown",
   "metadata": {},
   "source": [
    "### Select a model\n",
    "\n",
    "Now select the model you want to use in this guide, either by selecting one in the list or writing it down. Keep in mind that some models, like the 2.5 ones are thinking models and thus take slightly more time to respond (cf. [thinking notebook](quickstarts/Get_started_thinking.ipynb) for more details and in particular learn how to switch the thiking off).\n"
   ]
  },
  {
   "cell_type": "code",
   "execution_count": 4,
   "metadata": {},
   "outputs": [],
   "source": [
    "const tslab = require(\"tslab\") as typeof import(\"tslab\");\n",
    "\n",
    "const MODEL_ID = \"gemini-2.5-flash-preview-05-20\";\n"
   ]
  },
  {
   "attachments": {},
   "cell_type": "markdown",
   "metadata": {},
   "source": [
    "## Use Google Search\n",
    "\n",
    "Search grounding is particularly useful for queries that require current information or external knowledge. Using Google Search, Gemini can access nearly real-time information and better responses.\n"
   ]
  },
  {
   "cell_type": "code",
   "execution_count": 5,
   "metadata": {},
   "outputs": [
    {
     "data": {
      "text/markdown": [
       "The latest Indian Premier League (IPL) match was the final of the IPL 2025 season, played on June 3, 2025. In this match, Royal Challengers Bengaluru (RCB) defeated Punjab Kings (PBKS) by 6 runs to win their first-ever IPL title. The final took place at the Narendra Modi Stadium in Ahmedabad."
      ]
     },
     "metadata": {},
     "output_type": "display_data"
    },
    {
     "name": "stdout",
     "output_type": "stream",
     "text": [
      "Search Query: [\n",
      "  \"latest Indian Premier League match\",\n",
      "  \"who won the latest IPL match\",\n",
      "  \"When was the last IPL match played?\",\n",
      "  \"Who won the 2024 IPL final?\"\n",
      "]\n",
      "Search Pages: [\n",
      "  {\n",
      "    \"web\": {\n",
      "      \"uri\": \"https://vertexaisearch.cloud.google.com/grounding-api-redirect/AUZIYQED1gBjfQR3VhZnkg_v0aF2J2OUGrGI8O-oemmw9DPSI6P2CdRjxdxCGVXlRbCwaSPYbS5uZCdqhm4ITGpreZyqIOyZjys6VqEKsCsg4LG83stZQnNPG1VYRRUTnl-S8a4sE6-IlKJafsOCEVTuvg==\",\n",
      "      \"title\": \"adda247.com\"\n",
      "    }\n",
      "  },\n",
      "  {\n",
      "    \"web\": {\n",
      "      \"uri\": \"https://vertexaisearch.cloud.google.com/grounding-api-redirect/AUZIYQGhicCsA4P1rmWqWXF4jZvyZDKu0McjkXMBMJJsCEZBIqfYrtHbsXh28_y64X1Z9wMO5FzHXkimu1KfFlUgVAqnZA2-ve8vEBqu7SbM_gurW51G8E4UZNfT6PmnIs24c-ChqbA2OEe7ZBTtO9HoswrXjsNTiNcq1jyxjJzItfbdlaSbEReqQ8JvxnQQ_oMiRZg=\",\n",
      "      \"title\": \"jagranjosh.com\"\n",
      "    }\n",
      "  },\n",
      "  {\n",
      "    \"web\": {\n",
      "      \"uri\": \"https://vertexaisearch.cloud.google.com/grounding-api-redirect/AUZIYQFMC1rTjxqoJt8Zd6FCbOrfbGAMTRpcPYKrFdmU86xkJVL-ff56NFVrTRgDa0OQeLPF2vAijDHMA3LtJVhKx0Vbdf8q8hV8KbLR7qSaXOLJUkwn7HeVaI00dmLWqzofScElLsrsnpCRKXTsiEr_KTLRpJVuBZ9cwQBA\",\n",
      "      \"title\": \"indiatimes.com\"\n",
      "    }\n",
      "  },\n",
      "  {\n",
      "    \"web\": {\n",
      "      \"uri\": \"https://vertexaisearch.cloud.google.com/grounding-api-redirect/AUZIYQGKzBG91vj9P-anoK9ZxvEggSNf4t2wrwaIi2U9K8hD1EFZJIiiL-kIYLdn4X0hwyqHOPZxCHq2omH235vXNu0Wvfmc4ynt8hXybLeGQzcC1hxOwXh_qXlk1um19yw63k1cKTYoV96qyIoVfaD6iGBizSBeM3l3bWYeVRSYiYr81CiIiueK3vMzJ9HBbsoBPKYoWJ7qIB6D5320__FrsQztn6VHopAS8dEVoYXYSZ7N1WZWOjGDsiofV7v70tgMaaQC30ItVmTwJzuGyLnAnoj7K5avn0RVv2BCiiGH07vvKiT0lRL5cfGgDCFAxmTQk65DNUYtfZUx-bpLztQ=\",\n",
      "      \"title\": \"economictimes.com\"\n",
      "    }\n",
      "  },\n",
      "  {\n",
      "    \"web\": {\n",
      "      \"uri\": \"https://vertexaisearch.cloud.google.com/grounding-api-redirect/AUZIYQFPb64tb-APO_8I1aarbGeUW2wym9sBVxnGbYn_acSsknsd_tbLU22iIXCtHhQvlsBQKtoMk2M7pKcoFc573pyhqZTaJ0sVcaUrpS-JIhF3oB_kMwzcLpH7eTPuvkX2-bkmzTSUqeIxOG4P5aE9uH4fIJfzO4bTovU=\",\n",
      "      \"title\": \"sportskeeda.com\"\n",
      "    }\n",
      "  }\n",
      "]\n"
     ]
    },
    {
     "data": {
      "text/html": [
       "<style>\n",
       ".container {\n",
       "  align-items: center;\n",
       "  border-radius: 8px;\n",
       "  display: flex;\n",
       "  font-family: Google Sans, Roboto, sans-serif;\n",
       "  font-size: 14px;\n",
       "  line-height: 20px;\n",
       "  padding: 8px 12px;\n",
       "}\n",
       ".chip {\n",
       "  display: inline-block;\n",
       "  border: solid 1px;\n",
       "  border-radius: 16px;\n",
       "  min-width: 14px;\n",
       "  padding: 5px 16px;\n",
       "  text-align: center;\n",
       "  user-select: none;\n",
       "  margin: 0 8px;\n",
       "  -webkit-tap-highlight-color: transparent;\n",
       "}\n",
       ".carousel {\n",
       "  overflow: auto;\n",
       "  scrollbar-width: none;\n",
       "  white-space: nowrap;\n",
       "  margin-right: -12px;\n",
       "}\n",
       ".headline {\n",
       "  display: flex;\n",
       "  margin-right: 4px;\n",
       "}\n",
       ".gradient-container {\n",
       "  position: relative;\n",
       "}\n",
       ".gradient {\n",
       "  position: absolute;\n",
       "  transform: translate(3px, -9px);\n",
       "  height: 36px;\n",
       "  width: 9px;\n",
       "}\n",
       "@media (prefers-color-scheme: light) {\n",
       "  .container {\n",
       "    background-color: #fafafa;\n",
       "    box-shadow: 0 0 0 1px #0000000f;\n",
       "  }\n",
       "  .headline-label {\n",
       "    color: #1f1f1f;\n",
       "  }\n",
       "  .chip {\n",
       "    background-color: #ffffff;\n",
       "    border-color: #d2d2d2;\n",
       "    color: #5e5e5e;\n",
       "    text-decoration: none;\n",
       "  }\n",
       "  .chip:hover {\n",
       "    background-color: #f2f2f2;\n",
       "  }\n",
       "  .chip:focus {\n",
       "    background-color: #f2f2f2;\n",
       "  }\n",
       "  .chip:active {\n",
       "    background-color: #d8d8d8;\n",
       "    border-color: #b6b6b6;\n",
       "  }\n",
       "  .logo-dark {\n",
       "    display: none;\n",
       "  }\n",
       "  .gradient {\n",
       "    background: linear-gradient(90deg, #fafafa 15%, #fafafa00 100%);\n",
       "  }\n",
       "}\n",
       "@media (prefers-color-scheme: dark) {\n",
       "  .container {\n",
       "    background-color: #1f1f1f;\n",
       "    box-shadow: 0 0 0 1px #ffffff26;\n",
       "  }\n",
       "  .headline-label {\n",
       "    color: #fff;\n",
       "  }\n",
       "  .chip {\n",
       "    background-color: #2c2c2c;\n",
       "    border-color: #3c4043;\n",
       "    color: #fff;\n",
       "    text-decoration: none;\n",
       "  }\n",
       "  .chip:hover {\n",
       "    background-color: #353536;\n",
       "  }\n",
       "  .chip:focus {\n",
       "    background-color: #353536;\n",
       "  }\n",
       "  .chip:active {\n",
       "    background-color: #464849;\n",
       "    border-color: #53575b;\n",
       "  }\n",
       "  .logo-light {\n",
       "    display: none;\n",
       "  }\n",
       "  .gradient {\n",
       "    background: linear-gradient(90deg, #1f1f1f 15%, #1f1f1f00 100%);\n",
       "  }\n",
       "}\n",
       "</style>\n",
       "<div class=\"container\">\n",
       "  <div class=\"headline\">\n",
       "    <svg class=\"logo-light\" width=\"18\" height=\"18\" viewBox=\"9 9 35 35\" fill=\"none\" xmlns=\"http://www.w3.org/2000/svg\">\n",
       "      <path fill-rule=\"evenodd\" clip-rule=\"evenodd\" d=\"M42.8622 27.0064C42.8622 25.7839 42.7525 24.6084 42.5487 23.4799H26.3109V30.1568H35.5897C35.1821 32.3041 33.9596 34.1222 32.1258 35.3448V39.6864H37.7213C40.9814 36.677 42.8622 32.2571 42.8622 27.0064V27.0064Z\" fill=\"#4285F4\"/>\n",
       "      <path fill-rule=\"evenodd\" clip-rule=\"evenodd\" d=\"M26.3109 43.8555C30.9659 43.8555 34.8687 42.3195 37.7213 39.6863L32.1258 35.3447C30.5898 36.3792 28.6306 37.0061 26.3109 37.0061C21.8282 37.0061 18.0195 33.9811 16.6559 29.906H10.9194V34.3573C13.7563 39.9841 19.5712 43.8555 26.3109 43.8555V43.8555Z\" fill=\"#34A853\"/>\n",
       "      <path fill-rule=\"evenodd\" clip-rule=\"evenodd\" d=\"M16.6559 29.8904C16.3111 28.8559 16.1074 27.7588 16.1074 26.6146C16.1074 25.4704 16.3111 24.3733 16.6559 23.3388V18.8875H10.9194C9.74388 21.2072 9.06992 23.8247 9.06992 26.6146C9.06992 29.4045 9.74388 32.022 10.9194 34.3417L15.3864 30.8621L16.6559 29.8904V29.8904Z\" fill=\"#FBBC05\"/>\n",
       "      <path fill-rule=\"evenodd\" clip-rule=\"evenodd\" d=\"M26.3109 16.2386C28.85 16.2386 31.107 17.1164 32.9095 18.8091L37.8466 13.8719C34.853 11.082 30.9659 9.3736 26.3109 9.3736C19.5712 9.3736 13.7563 13.245 10.9194 18.8875L16.6559 23.3388C18.0195 19.2636 21.8282 16.2386 26.3109 16.2386V16.2386Z\" fill=\"#EA4335\"/>\n",
       "    </svg>\n",
       "    <svg class=\"logo-dark\" width=\"18\" height=\"18\" viewBox=\"0 0 48 48\" xmlns=\"http://www.w3.org/2000/svg\">\n",
       "      <circle cx=\"24\" cy=\"23\" fill=\"#FFF\" r=\"22\"/>\n",
       "      <path d=\"M33.76 34.26c2.75-2.56 4.49-6.37 4.49-11.26 0-.89-.08-1.84-.29-3H24.01v5.99h8.03c-.4 2.02-1.5 3.56-3.07 4.56v.75l3.91 2.97h.88z\" fill=\"#4285F4\"/>\n",
       "      <path d=\"M15.58 25.77A8.845 8.845 0 0 0 24 31.86c1.92 0 3.62-.46 4.97-1.31l4.79 3.71C31.14 36.7 27.65 38 24 38c-5.93 0-11.01-3.4-13.45-8.36l.17-1.01 4.06-2.85h.8z\" fill=\"#34A853\"/>\n",
       "      <path d=\"M15.59 20.21a8.864 8.864 0 0 0 0 5.58l-5.03 3.86c-.98-2-1.53-4.25-1.53-6.64 0-2.39.55-4.64 1.53-6.64l1-.22 3.81 2.98.22 1.08z\" fill=\"#FBBC05\"/>\n",
       "      <path d=\"M24 14.14c2.11 0 4.02.75 5.52 1.98l4.36-4.36C31.22 9.43 27.81 8 24 8c-5.93 0-11.01 3.4-13.45 8.36l5.03 3.85A8.86 8.86 0 0 1 24 14.14z\" fill=\"#EA4335\"/>\n",
       "    </svg>\n",
       "    <div class=\"gradient-container\"><div class=\"gradient\"></div></div>\n",
       "  </div>\n",
       "  <div class=\"carousel\">\n",
       "    <a class=\"chip\" href=\"https://vertexaisearch.cloud.google.com/grounding-api-redirect/AUZIYQHoN_bMdDxFClafPtiHyF_bUIbZ7GF_eP0pG7DBEbuR7G7XBaN47xGBcaG8YMdRFKAaC9v1VF3kZ7YTbiNE_s56ucgVMOLJkzEKh1LRRtfvxKKsXUlvl0zfmIIvx91seSQ8tWsqd6drxEyVeX5DVd4vnrQQKgvaAJ039kQpbpWpvphcoOm6w0W627E_1rWGazG6Mn400keflhzl9cbHvg==\">who won the latest IPL match</a>\n",
       "    <a class=\"chip\" href=\"https://vertexaisearch.cloud.google.com/grounding-api-redirect/AUZIYQHaCPw6eUlH64_srbWAUWViHys21tdlsN1n7fEiB9tUI2aT72ETs-WzwtMRGcBywMTu3UKys-oQddjg8UBwZcFWuOMXyLPnVdo6Cf2PdGy_YXjNsOv49Ii9Ub4yfo1Y_ki6kkBLESF1TwPA6oHCFLE2D91KBnnC1XPuPTDKNO9MA2ebjLEmKyvuQEVNWUyXF-In-fs9HmtRtS2VISscELpYMIQ2Yw==\">latest Indian Premier League match</a>\n",
       "    <a class=\"chip\" href=\"https://vertexaisearch.cloud.google.com/grounding-api-redirect/AUZIYQHhui5A4BYHbStMocEpaNcl4SiSblAb3phmZ78He1_Iz1JxYZDoM-Xxd7ZImjAr1hpoof8quDJjAwoAwOHCUUK3IAAtvtefVmrpnjpxJadTmz6XycwjvpXofru_7-pv3rDLW2HyB4a9sgo2etdmDqLtmpV2fAfr8PvHPMl9uVcdj4jjSHOZgDjrl_4EZ7H_x0bL439smjiCWtIM8ORfAhXZ-GaL9XfGJQ==\">When was the last IPL match played?</a>\n",
       "    <a class=\"chip\" href=\"https://vertexaisearch.cloud.google.com/grounding-api-redirect/AUZIYQFf3svElvq4q1d9DaGANUHFSb-ht2hcjnS1chL3zEFSvtfvtBhm_zABgZQ3IkGuFliXXupnO9DRtevg_90JNbL0IRYQR8pIAjjru0auCej26FH8FFYd_OSycEDE-r5K8Eoo5Bq3z987BYeadOtAFR7-z25XnII14RzuX69W2ZM7KV0Kn2jLDhQTRdOZjhckGCJoYLNkqNHX87LeluPC1t8=\">Who won the 2024 IPL final?</a>\n",
       "  </div>\n",
       "</div>\n"
      ]
     },
     "metadata": {},
     "output_type": "display_data"
    }
   ],
   "source": [
    "const grounded_response = await ai.models.generateContent({\n",
    "  model: MODEL_ID,\n",
    "  contents: \"What was the latest Indian Premier League match and who won?\",\n",
    "  config: {\n",
    "    tools: [{ googleSearch: {} }],\n",
    "  },\n",
    "});\n",
    "tslab.display.markdown(grounded_response.text ?? \"\");\n",
    "\n",
    "console.log(\n",
    "  \"Search Query:\",\n",
    "  JSON.stringify(grounded_response.candidates?.[0]?.groundingMetadata?.webSearchQueries, null, 2)\n",
    ");\n",
    "console.log(\n",
    "  \"Search Pages:\",\n",
    "  JSON.stringify(grounded_response.candidates?.[0]?.groundingMetadata?.groundingChunks, null, 2)\n",
    ");\n",
    "\n",
    "tslab.display.html(grounded_response.candidates?.[0]?.groundingMetadata?.searchEntryPoint?.renderedContent ?? \"\");\n"
   ]
  },
  {
   "attachments": {},
   "cell_type": "markdown",
   "metadata": {},
   "source": [
    "The information provided may be outdated, as it is based on a knowledge cutoff. For the most current and authoritative details, please refer to the official [Model documentation](https://ai.google.dev/gemini-api/docs/models#gemini-2.5-flash), which includes the latest knowledge cutoff date.\n",
    "\n",
    "You can see that running the same prompt without search grounding gives you outdated information:\n"
   ]
  },
  {
   "cell_type": "code",
   "execution_count": 6,
   "metadata": {},
   "outputs": [
    {
     "data": {
      "text/markdown": [
       "The latest Indian Premier League (IPL) match was the **Final of the 2024 season**.\n",
       "\n",
       "*   **Match:** Kolkata Knight Riders (KKR) vs. Sunrisers Hyderabad (SRH)\n",
       "*   **Date:** May 26, 2024\n",
       "*   **Venue:** M.A. Chidambaram Stadium, Chennai\n",
       "*   **Winner:** **Kolkata Knight Riders (KKR)** won by 8 wickets."
      ]
     },
     "metadata": {},
     "output_type": "display_data"
    }
   ],
   "source": [
    "const without_grounding_response = await ai.models.generateContent({\n",
    "  model: MODEL_ID,\n",
    "  contents: \"What was the latest Indian Premier League match and who won?\",\n",
    "});\n",
    "tslab.display.markdown(without_grounding_response.text ?? \"\");\n"
   ]
  },
  {
   "attachments": {},
   "cell_type": "markdown",
   "metadata": {},
   "source": [
    "## Use search in chat\n",
    "\n",
    "Start by defining a helper function that you will use to display each part of the returned response.\n"
   ]
  },
  {
   "cell_type": "code",
   "execution_count": 5,
   "metadata": {},
   "outputs": [],
   "source": [
    "import { GenerateContentResponse } from \"@google/genai\";\n",
    "\n",
    "// eslint-disable-next-line complexity\n",
    "function showParts(content: GenerateContentResponse) {\n",
    "  const parts = content.candidates?.[0]?.content?.parts ?? [];\n",
    "  if (parts.length === 0) {\n",
    "    tslab.display.markdown(\"\\n-------------------------------\\n\");\n",
    "    tslab.display.markdown(`**Finish Reason:** ${content.candidates?.[0]?.finishReason ?? \"unknown\"}`);\n",
    "    return;\n",
    "  }\n",
    "  for (const part of parts) {\n",
    "    if (part.text) {\n",
    "      tslab.display.markdown(part.text);\n",
    "    } else if (part.executableCode) {\n",
    "      tslab.display.markdown(\"\\n-------------------------------\\n\");\n",
    "      tslab.display.markdown(`\\`\\`\\`python\\n${part.executableCode.code}\\n\\`\\`\\``);\n",
    "      tslab.display.markdown(\"\\n-------------------------------\\n\");\n",
    "    } else if (part.codeExecutionResult) {\n",
    "      tslab.display.markdown(\"\\n-------------------------------\\n\");\n",
    "      tslab.display.markdown(`\\`\\`\\`\\n${part.codeExecutionResult.output}\\n\\`\\`\\``);\n",
    "      tslab.display.markdown(\"\\n-------------------------------\\n\");\n",
    "    } else {\n",
    "      console.log(JSON.stringify(part, null, 2));\n",
    "    }\n",
    "  }\n",
    "  const groundingMetadata = content.candidates?.[0]?.groundingMetadata;\n",
    "  if (groundingMetadata) {\n",
    "    tslab.display.html(groundingMetadata.searchEntryPoint?.renderedContent ?? \"\");\n",
    "  }\n",
    "}\n"
   ]
  },
  {
   "attachments": {},
   "cell_type": "markdown",
   "metadata": {},
   "source": [
    "First try a query that needs realtime information, so you can see how the model performs without Google Search.\n"
   ]
  },
  {
   "cell_type": "code",
   "execution_count": 8,
   "metadata": {},
   "outputs": [
    {
     "data": {
      "text/markdown": [
       "Australia won both of the most recent games against Chinese Taipei in **men's football (soccer)**. These matches were part of the 2026 FIFA World Cup Qualifiers (AFC Second Round).\n",
       "\n",
       "Here are the results:\n",
       "\n",
       "1.  **November 16, 2023:** **Australia 7 - 0 Chinese Taipei** (Played in Melbourne, Australia)\n",
       "2.  **June 6, 2024:** **Chinese Taipei 0 - 3 Australia** (Played in Taipei, Chinese Taipei)\n",
       "\n",
       "Australia dominated both matches."
      ]
     },
     "metadata": {},
     "output_type": "display_data"
    }
   ],
   "source": [
    "const chat = ai.chats.create({\n",
    "  model: MODEL_ID,\n",
    "});\n",
    "\n",
    "const response_1 = await chat.sendMessage({\n",
    "  message: \"Who won the most recent Australia vs Chinese Taipei games?\",\n",
    "});\n",
    "showParts(response_1);\n"
   ]
  },
  {
   "attachments": {},
   "cell_type": "markdown",
   "metadata": {},
   "source": [
    "Now set up a new chat session that uses the `googleSearch` tool. The `showParts` helper will display the text output as well as any Google Search queries used in the results.\n"
   ]
  },
  {
   "cell_type": "code",
   "execution_count": 9,
   "metadata": {},
   "outputs": [
    {
     "data": {
      "text/markdown": [
       "Australia and Chinese Taipei have recently competed in various sports.\n",
       "\n",
       "In women's futsal, Chinese Taipei defeated Australia 1-0 on May 10, 2025, in the AFC Women's Futsal Asian Cup 2025\u2122.\n",
       "\n",
       "In women's football (soccer), Australia Women played Chinese Taipei Women in two friendly matches in December 2024. Australia won both games, with scores of 3-1 on December 4, 2024, and 6-0 on December 7, 2024.\n",
       "\n",
       "In men's basketball, Australia played Chinese Taipei on February 24, 2022, in a FIBA Asia Qualifier, where Australia won. For youth basketball, Australia U18 defeated Chinese Taipei U18 with a score of 113-48 on September 4, 2024. Additionally, there was a FIBA U17 Women's Basketball World Cup 2024 game between Australia and Chinese Taipei on July 17, 2024.\n",
       "\n",
       "In men's volleyball, Australia defeated Chinese Taipei 3-0 on June 2, 2024."
      ]
     },
     "metadata": {},
     "output_type": "display_data"
    },
    {
     "data": {
      "text/markdown": [
       "In recent games between Australia and Chinese Taipei across various sports:\n",
       "\n",
       "In **women's futsal**, Chinese Taipei defeated Australia 1-0 in their most recent match on May 10, 2025, during the AFC Women's Futsal Asian Cup 2025\u2122.\n",
       "\n",
       "In **women's football (soccer)**, Australia won both of their most recent friendly matches against Chinese Taipei in December 2024. Australia secured a 3-1 victory on December 4, 2024, and followed up with a 6-0 win on December 7, 2024.\n",
       "\n",
       "In **men's basketball**, Australia defeated Chinese Taipei on February 24, 2022, in a FIBA Asia Qualifier. In youth basketball, Australia U18 won against Chinese Taipei U18 with a score of 113-48 on September 4, 2024. There was also a FIBA U17 Women's Basketball World Cup 2024 game between Australia and Chinese Taipei on July 17, 2024.\n",
       "\n",
       "In **men's volleyball**, Australia won against Chinese Taipei with a score of 3-0 on June 2, 2024."
      ]
     },
     "metadata": {},
     "output_type": "display_data"
    },
    {
     "data": {
      "text/html": [
       "<style>\n",
       ".container {\n",
       "  align-items: center;\n",
       "  border-radius: 8px;\n",
       "  display: flex;\n",
       "  font-family: Google Sans, Roboto, sans-serif;\n",
       "  font-size: 14px;\n",
       "  line-height: 20px;\n",
       "  padding: 8px 12px;\n",
       "}\n",
       ".chip {\n",
       "  display: inline-block;\n",
       "  border: solid 1px;\n",
       "  border-radius: 16px;\n",
       "  min-width: 14px;\n",
       "  padding: 5px 16px;\n",
       "  text-align: center;\n",
       "  user-select: none;\n",
       "  margin: 0 8px;\n",
       "  -webkit-tap-highlight-color: transparent;\n",
       "}\n",
       ".carousel {\n",
       "  overflow: auto;\n",
       "  scrollbar-width: none;\n",
       "  white-space: nowrap;\n",
       "  margin-right: -12px;\n",
       "}\n",
       ".headline {\n",
       "  display: flex;\n",
       "  margin-right: 4px;\n",
       "}\n",
       ".gradient-container {\n",
       "  position: relative;\n",
       "}\n",
       ".gradient {\n",
       "  position: absolute;\n",
       "  transform: translate(3px, -9px);\n",
       "  height: 36px;\n",
       "  width: 9px;\n",
       "}\n",
       "@media (prefers-color-scheme: light) {\n",
       "  .container {\n",
       "    background-color: #fafafa;\n",
       "    box-shadow: 0 0 0 1px #0000000f;\n",
       "  }\n",
       "  .headline-label {\n",
       "    color: #1f1f1f;\n",
       "  }\n",
       "  .chip {\n",
       "    background-color: #ffffff;\n",
       "    border-color: #d2d2d2;\n",
       "    color: #5e5e5e;\n",
       "    text-decoration: none;\n",
       "  }\n",
       "  .chip:hover {\n",
       "    background-color: #f2f2f2;\n",
       "  }\n",
       "  .chip:focus {\n",
       "    background-color: #f2f2f2;\n",
       "  }\n",
       "  .chip:active {\n",
       "    background-color: #d8d8d8;\n",
       "    border-color: #b6b6b6;\n",
       "  }\n",
       "  .logo-dark {\n",
       "    display: none;\n",
       "  }\n",
       "  .gradient {\n",
       "    background: linear-gradient(90deg, #fafafa 15%, #fafafa00 100%);\n",
       "  }\n",
       "}\n",
       "@media (prefers-color-scheme: dark) {\n",
       "  .container {\n",
       "    background-color: #1f1f1f;\n",
       "    box-shadow: 0 0 0 1px #ffffff26;\n",
       "  }\n",
       "  .headline-label {\n",
       "    color: #fff;\n",
       "  }\n",
       "  .chip {\n",
       "    background-color: #2c2c2c;\n",
       "    border-color: #3c4043;\n",
       "    color: #fff;\n",
       "    text-decoration: none;\n",
       "  }\n",
       "  .chip:hover {\n",
       "    background-color: #353536;\n",
       "  }\n",
       "  .chip:focus {\n",
       "    background-color: #353536;\n",
       "  }\n",
       "  .chip:active {\n",
       "    background-color: #464849;\n",
       "    border-color: #53575b;\n",
       "  }\n",
       "  .logo-light {\n",
       "    display: none;\n",
       "  }\n",
       "  .gradient {\n",
       "    background: linear-gradient(90deg, #1f1f1f 15%, #1f1f1f00 100%);\n",
       "  }\n",
       "}\n",
       "</style>\n",
       "<div class=\"container\">\n",
       "  <div class=\"headline\">\n",
       "    <svg class=\"logo-light\" width=\"18\" height=\"18\" viewBox=\"9 9 35 35\" fill=\"none\" xmlns=\"http://www.w3.org/2000/svg\">\n",
       "      <path fill-rule=\"evenodd\" clip-rule=\"evenodd\" d=\"M42.8622 27.0064C42.8622 25.7839 42.7525 24.6084 42.5487 23.4799H26.3109V30.1568H35.5897C35.1821 32.3041 33.9596 34.1222 32.1258 35.3448V39.6864H37.7213C40.9814 36.677 42.8622 32.2571 42.8622 27.0064V27.0064Z\" fill=\"#4285F4\"/>\n",
       "      <path fill-rule=\"evenodd\" clip-rule=\"evenodd\" d=\"M26.3109 43.8555C30.9659 43.8555 34.8687 42.3195 37.7213 39.6863L32.1258 35.3447C30.5898 36.3792 28.6306 37.0061 26.3109 37.0061C21.8282 37.0061 18.0195 33.9811 16.6559 29.906H10.9194V34.3573C13.7563 39.9841 19.5712 43.8555 26.3109 43.8555V43.8555Z\" fill=\"#34A853\"/>\n",
       "      <path fill-rule=\"evenodd\" clip-rule=\"evenodd\" d=\"M16.6559 29.8904C16.3111 28.8559 16.1074 27.7588 16.1074 26.6146C16.1074 25.4704 16.3111 24.3733 16.6559 23.3388V18.8875H10.9194C9.74388 21.2072 9.06992 23.8247 9.06992 26.6146C9.06992 29.4045 9.74388 32.022 10.9194 34.3417L15.3864 30.8621L16.6559 29.8904V29.8904Z\" fill=\"#FBBC05\"/>\n",
       "      <path fill-rule=\"evenodd\" clip-rule=\"evenodd\" d=\"M26.3109 16.2386C28.85 16.2386 31.107 17.1164 32.9095 18.8091L37.8466 13.8719C34.853 11.082 30.9659 9.3736 26.3109 9.3736C19.5712 9.3736 13.7563 13.245 10.9194 18.8875L16.6559 23.3388C18.0195 19.2636 21.8282 16.2386 26.3109 16.2386V16.2386Z\" fill=\"#EA4335\"/>\n",
       "    </svg>\n",
       "    <svg class=\"logo-dark\" width=\"18\" height=\"18\" viewBox=\"0 0 48 48\" xmlns=\"http://www.w3.org/2000/svg\">\n",
       "      <circle cx=\"24\" cy=\"23\" fill=\"#FFF\" r=\"22\"/>\n",
       "      <path d=\"M33.76 34.26c2.75-2.56 4.49-6.37 4.49-11.26 0-.89-.08-1.84-.29-3H24.01v5.99h8.03c-.4 2.02-1.5 3.56-3.07 4.56v.75l3.91 2.97h.88z\" fill=\"#4285F4\"/>\n",
       "      <path d=\"M15.58 25.77A8.845 8.845 0 0 0 24 31.86c1.92 0 3.62-.46 4.97-1.31l4.79 3.71C31.14 36.7 27.65 38 24 38c-5.93 0-11.01-3.4-13.45-8.36l.17-1.01 4.06-2.85h.8z\" fill=\"#34A853\"/>\n",
       "      <path d=\"M15.59 20.21a8.864 8.864 0 0 0 0 5.58l-5.03 3.86c-.98-2-1.53-4.25-1.53-6.64 0-2.39.55-4.64 1.53-6.64l1-.22 3.81 2.98.22 1.08z\" fill=\"#FBBC05\"/>\n",
       "      <path d=\"M24 14.14c2.11 0 4.02.75 5.52 1.98l4.36-4.36C31.22 9.43 27.81 8 24 8c-5.93 0-11.01 3.4-13.45 8.36l5.03 3.85A8.86 8.86 0 0 1 24 14.14z\" fill=\"#EA4335\"/>\n",
       "    </svg>\n",
       "    <div class=\"gradient-container\"><div class=\"gradient\"></div></div>\n",
       "  </div>\n",
       "  <div class=\"carousel\">\n",
       "    <a class=\"chip\" href=\"https://vertexaisearch.cloud.google.com/grounding-api-redirect/AUZIYQGVMfQ4nLRpgtQvs9af-5TgkX2OLeKFIyohSlSE6KiXXNa0VWMRQsnlJQhMsCbQSUqLZuaNe4pwMhJ8j8zc6qOWZj9ixImSKXDXjlirfBkdUUj5jLiR77dNXu4lr4VmKSrI5iffX3tan1DkhtVjiIDT5u59zpzkTawklVYJ9D4-4-hiaoc61qzLy28c01GqwGdJYvhfd4jpojFMZu8unQTEOiJ3ZoWP33R4lU43iy0QNXm_p2LTm2UL\">Australia vs Chinese Taipei basketball games results</a>\n",
       "    <a class=\"chip\" href=\"https://vertexaisearch.cloud.google.com/grounding-api-redirect/AUZIYQGcP36NeVp5B4eR6i1yPrY8g0W0_Lr_Ez-K3s2PDskUi6gCCN-qasswuyRpVUNtY6bV75E8DFd87k8VG-Q116lARlcuoz91PwhPLOd46NwU-gfKBLqgpYpJ1q-2zP05-SBqVTg7M1OpCmg9GmruMK07pBXo1n6UaU-2EPsg5FLXUn9Dwe5JoRywppRSzwB0S4k_peDS1IZjiIakSpPJkGoYyWtjLyZV0QU25GuwEBT3bgAzTHMqni1ip299JctAZfg=\">most recent Australia vs Chinese Taipei soccer games results</a>\n",
       "    <a class=\"chip\" href=\"https://vertexaisearch.cloud.google.com/grounding-api-redirect/AUZIYQF-nrqbbmO8Xm9yMpPGZ-l2kSXObkobxuHTnhmOY1cWUQjd7blRNX5THWgENkftdi6MTbJ5zAjl_vjkSJOxnGfiPzuqGYtwq27avz8DASbooX3Mg_TnHdR2K34Dyp11yDFoiyHfsdcS_pxcPSlGbStXR3_iDNemo-ZSWjPGILGcev0HEzLFQo6biX7bSh6EoIEd2q-Qr08vcrSIa_YrBiSLPJac43NXj76DDVqq_Q==\">Australia vs Chinese Taipei sports results</a>\n",
       "  </div>\n",
       "</div>\n"
      ]
     },
     "metadata": {},
     "output_type": "display_data"
    }
   ],
   "source": [
    "const chat_with_search = ai.chats.create({\n",
    "  model: MODEL_ID,\n",
    "  config: {\n",
    "    tools: [{ googleSearch: {} }],\n",
    "  },\n",
    "});\n",
    "const response_2 = await chat_with_search.sendMessage({\n",
    "  message: \"Who won the most recent Australia vs Chinese Taipei games?\",\n",
    "});\n",
    "showParts(response_2);\n"
   ]
  },
  {
   "attachments": {},
   "cell_type": "markdown",
   "metadata": {},
   "source": [
    "As you are using a `chat` session, you can ask the model follow-up questions too.\n"
   ]
  },
  {
   "cell_type": "code",
   "execution_count": 10,
   "metadata": {},
   "outputs": [
    {
     "data": {
      "text/markdown": [
       "Here are the goal scorers for the most recent Australia vs Chinese Taipei games where goals were scored:\n",
       "\n",
       "**Women's Futsal - AFC Women's Futsal Asian Cup 2025\u2122 (May 10, 2025)**\n",
       "\n",
       "*   **Chinese Taipei:** Liu Chih-Ling scored the lone goal in their 1-0 victory over Australia.\n",
       "\n",
       "**Women's Football (Soccer) - International Friendlies (December 2024)**\n",
       "\n",
       "*   **December 4, 2024 (Australia 3-1 Chinese Taipei):**\n",
       "    *   **Australia:** Natasha Prior, Sharn Freier, and Bryleeh Henry.\n",
       "    *   **Chinese Taipei:** Chen Jin-Wen (also referred to as Chen Ji-Wen).\n",
       "*   **December 7, 2024 (Australia 6-0 Chinese Taipei):**\n",
       "    *   **Australia:** Leah Davidson, Tameka Yallop, Emily Gielnik, Michelle Heyman, Natasha Prior, and Sharn Freier."
      ]
     },
     "metadata": {},
     "output_type": "display_data"
    },
    {
     "data": {
      "text/html": [
       "<style>\n",
       ".container {\n",
       "  align-items: center;\n",
       "  border-radius: 8px;\n",
       "  display: flex;\n",
       "  font-family: Google Sans, Roboto, sans-serif;\n",
       "  font-size: 14px;\n",
       "  line-height: 20px;\n",
       "  padding: 8px 12px;\n",
       "}\n",
       ".chip {\n",
       "  display: inline-block;\n",
       "  border: solid 1px;\n",
       "  border-radius: 16px;\n",
       "  min-width: 14px;\n",
       "  padding: 5px 16px;\n",
       "  text-align: center;\n",
       "  user-select: none;\n",
       "  margin: 0 8px;\n",
       "  -webkit-tap-highlight-color: transparent;\n",
       "}\n",
       ".carousel {\n",
       "  overflow: auto;\n",
       "  scrollbar-width: none;\n",
       "  white-space: nowrap;\n",
       "  margin-right: -12px;\n",
       "}\n",
       ".headline {\n",
       "  display: flex;\n",
       "  margin-right: 4px;\n",
       "}\n",
       ".gradient-container {\n",
       "  position: relative;\n",
       "}\n",
       ".gradient {\n",
       "  position: absolute;\n",
       "  transform: translate(3px, -9px);\n",
       "  height: 36px;\n",
       "  width: 9px;\n",
       "}\n",
       "@media (prefers-color-scheme: light) {\n",
       "  .container {\n",
       "    background-color: #fafafa;\n",
       "    box-shadow: 0 0 0 1px #0000000f;\n",
       "  }\n",
       "  .headline-label {\n",
       "    color: #1f1f1f;\n",
       "  }\n",
       "  .chip {\n",
       "    background-color: #ffffff;\n",
       "    border-color: #d2d2d2;\n",
       "    color: #5e5e5e;\n",
       "    text-decoration: none;\n",
       "  }\n",
       "  .chip:hover {\n",
       "    background-color: #f2f2f2;\n",
       "  }\n",
       "  .chip:focus {\n",
       "    background-color: #f2f2f2;\n",
       "  }\n",
       "  .chip:active {\n",
       "    background-color: #d8d8d8;\n",
       "    border-color: #b6b6b6;\n",
       "  }\n",
       "  .logo-dark {\n",
       "    display: none;\n",
       "  }\n",
       "  .gradient {\n",
       "    background: linear-gradient(90deg, #fafafa 15%, #fafafa00 100%);\n",
       "  }\n",
       "}\n",
       "@media (prefers-color-scheme: dark) {\n",
       "  .container {\n",
       "    background-color: #1f1f1f;\n",
       "    box-shadow: 0 0 0 1px #ffffff26;\n",
       "  }\n",
       "  .headline-label {\n",
       "    color: #fff;\n",
       "  }\n",
       "  .chip {\n",
       "    background-color: #2c2c2c;\n",
       "    border-color: #3c4043;\n",
       "    color: #fff;\n",
       "    text-decoration: none;\n",
       "  }\n",
       "  .chip:hover {\n",
       "    background-color: #353536;\n",
       "  }\n",
       "  .chip:focus {\n",
       "    background-color: #353536;\n",
       "  }\n",
       "  .chip:active {\n",
       "    background-color: #464849;\n",
       "    border-color: #53575b;\n",
       "  }\n",
       "  .logo-light {\n",
       "    display: none;\n",
       "  }\n",
       "  .gradient {\n",
       "    background: linear-gradient(90deg, #1f1f1f 15%, #1f1f1f00 100%);\n",
       "  }\n",
       "}\n",
       "</style>\n",
       "<div class=\"container\">\n",
       "  <div class=\"headline\">\n",
       "    <svg class=\"logo-light\" width=\"18\" height=\"18\" viewBox=\"9 9 35 35\" fill=\"none\" xmlns=\"http://www.w3.org/2000/svg\">\n",
       "      <path fill-rule=\"evenodd\" clip-rule=\"evenodd\" d=\"M42.8622 27.0064C42.8622 25.7839 42.7525 24.6084 42.5487 23.4799H26.3109V30.1568H35.5897C35.1821 32.3041 33.9596 34.1222 32.1258 35.3448V39.6864H37.7213C40.9814 36.677 42.8622 32.2571 42.8622 27.0064V27.0064Z\" fill=\"#4285F4\"/>\n",
       "      <path fill-rule=\"evenodd\" clip-rule=\"evenodd\" d=\"M26.3109 43.8555C30.9659 43.8555 34.8687 42.3195 37.7213 39.6863L32.1258 35.3447C30.5898 36.3792 28.6306 37.0061 26.3109 37.0061C21.8282 37.0061 18.0195 33.9811 16.6559 29.906H10.9194V34.3573C13.7563 39.9841 19.5712 43.8555 26.3109 43.8555V43.8555Z\" fill=\"#34A853\"/>\n",
       "      <path fill-rule=\"evenodd\" clip-rule=\"evenodd\" d=\"M16.6559 29.8904C16.3111 28.8559 16.1074 27.7588 16.1074 26.6146C16.1074 25.4704 16.3111 24.3733 16.6559 23.3388V18.8875H10.9194C9.74388 21.2072 9.06992 23.8247 9.06992 26.6146C9.06992 29.4045 9.74388 32.022 10.9194 34.3417L15.3864 30.8621L16.6559 29.8904V29.8904Z\" fill=\"#FBBC05\"/>\n",
       "      <path fill-rule=\"evenodd\" clip-rule=\"evenodd\" d=\"M26.3109 16.2386C28.85 16.2386 31.107 17.1164 32.9095 18.8091L37.8466 13.8719C34.853 11.082 30.9659 9.3736 26.3109 9.3736C19.5712 9.3736 13.7563 13.245 10.9194 18.8875L16.6559 23.3388C18.0195 19.2636 21.8282 16.2386 26.3109 16.2386V16.2386Z\" fill=\"#EA4335\"/>\n",
       "    </svg>\n",
       "    <svg class=\"logo-dark\" width=\"18\" height=\"18\" viewBox=\"0 0 48 48\" xmlns=\"http://www.w3.org/2000/svg\">\n",
       "      <circle cx=\"24\" cy=\"23\" fill=\"#FFF\" r=\"22\"/>\n",
       "      <path d=\"M33.76 34.26c2.75-2.56 4.49-6.37 4.49-11.26 0-.89-.08-1.84-.29-3H24.01v5.99h8.03c-.4 2.02-1.5 3.56-3.07 4.56v.75l3.91 2.97h.88z\" fill=\"#4285F4\"/>\n",
       "      <path d=\"M15.58 25.77A8.845 8.845 0 0 0 24 31.86c1.92 0 3.62-.46 4.97-1.31l4.79 3.71C31.14 36.7 27.65 38 24 38c-5.93 0-11.01-3.4-13.45-8.36l.17-1.01 4.06-2.85h.8z\" fill=\"#34A853\"/>\n",
       "      <path d=\"M15.59 20.21a8.864 8.864 0 0 0 0 5.58l-5.03 3.86c-.98-2-1.53-4.25-1.53-6.64 0-2.39.55-4.64 1.53-6.64l1-.22 3.81 2.98.22 1.08z\" fill=\"#FBBC05\"/>\n",
       "      <path d=\"M24 14.14c2.11 0 4.02.75 5.52 1.98l4.36-4.36C31.22 9.43 27.81 8 24 8c-5.93 0-11.01 3.4-13.45 8.36l5.03 3.85A8.86 8.86 0 0 1 24 14.14z\" fill=\"#EA4335\"/>\n",
       "    </svg>\n",
       "    <div class=\"gradient-container\"><div class=\"gradient\"></div></div>\n",
       "  </div>\n",
       "  <div class=\"carousel\">\n",
       "    <a class=\"chip\" href=\"https://vertexaisearch.cloud.google.com/grounding-api-redirect/AUZIYQFsYIgSW6dlhqyXmqeaP62lDDmAnTvsNqOtEfeBg0zjK_BgXVQM-aZW51IKEcLoHe9EOiwvHRjNyJz8NJyR6zm65XsFXlXPAyJtn9WKWP18K3BFZu6tSC89EGe90Zn6Za9zMZsp4mSRw_f_30PO92GDbuU6NKPjn_AtU5EwF8eoTQqGeY9QZJ279ERNjNkdpjSkgoEaNjwkBjUIlq1EY6DOwQvM1IBBKRhYJvdkJsmFFj6qa-4BMSTCgPuOMxLIi3ZG6DyXeDoi\">Australia Women vs Chinese Taipei Women December 7 2024 goal scorers</a>\n",
       "    <a class=\"chip\" href=\"https://vertexaisearch.cloud.google.com/grounding-api-redirect/AUZIYQEquJ-NYdl2s1f-WthIkqEu9uBLF4LYsZM36MysNHKZ21R2wCmEe1vIDmAUWl8bXuHeRe8dsz645-R62UPOCCvGN5udGJqBitQS_ykT-SrdVfOeEJ8AkraUFzsK7-g7ZMNkfkxoE6-0jILbrsL9L2o6KrsveZRy9ajo3FifzncL4EW6r7aS6QFo-uABYIlZJk3pZBleXpDKZI5d59iGiaQATQ6DSxuq_v3hDXuKtWnnsbkZdndONapzy8aEjBTx0gdZmegFUjW5iml6ebHnukk=\">AFC Women&#39;s Futsal Asian Cup 2025 Chinese Taipei vs Australia goal scorers</a>\n",
       "    <a class=\"chip\" href=\"https://vertexaisearch.cloud.google.com/grounding-api-redirect/AUZIYQEAO20UBagyjdT4WwPLN_0PqstrWxp86MLkbsUL-b-LZ6KXAJt0duCPgq5pBnC4cIM9KCvq2t489hkS9feYQ7EZmYw6Wh3Rifyt0-MnJ4lGFU3yba5EQs1QIviuDcSMANR9-XHmfGw2lmTw0ronmOmDpK-uTLTBo27uKnWrkgj_VcTdfF198mseo2xrogoL7zl8PlvIq-jtVEnt6dXCDvU65yaklcMB-ER_E11IPO2Dgzwq3OT_eH3t5ZnSu3u-8AhkSyAYTO9r\">Australia Women vs Chinese Taipei Women December 4 2024 goal scorers</a>\n",
       "  </div>\n",
       "</div>\n"
      ]
     },
     "metadata": {},
     "output_type": "display_data"
    }
   ],
   "source": [
    "const response_3 = await chat_with_search.sendMessage({\n",
    "  message: \"Who scored the goals?\",\n",
    "});\n",
    "showParts(response_3);\n"
   ]
  },
  {
   "attachments": {},
   "cell_type": "markdown",
   "metadata": {},
   "source": [
    "## Plot search results\n",
    "\n",
    "In this example you can see how to use the Google Search tool with code generation in order to plot results.\n"
   ]
  },
  {
   "cell_type": "code",
   "execution_count": 6,
   "metadata": {},
   "outputs": [
    {
     "data": {
      "text/markdown": [
       "Denis Villeneuve has garnered significant acclaim for his cinematic works, with his more recent films often commanding substantial runtimes. The runtimes of his ten most recent feature films, from newest to oldest, are as follows:\n",
       "\n",
       "*   **Dune: Part Two (2024)**: 166 minutes\n",
       "*   **Dune (2021)**: 155 minutes\n",
       "*   **Blade Runner 2049 (2017)**: 163 minutes\n",
       "*   **Arrival (2016)**: 116 minutes\n",
       "*   **Sicario (2015)**: 121 minutes\n",
       "*   **Prisoners (2013)**: 153 minutes\n",
       "*   **Enemy (2013)**: 90 minutes\n",
       "*   **Incendies (2010)**: 130 minutes\n",
       "*   **Polytechnique (2009)**: 77 minutes\n",
       "*   **Maelstr\u00f6m (2000)**: 88 minutes\n",
       "\n",
       "Below is a server-side JavaScript function that generates a plot image of these runtimes using QuickChart.io and returns the image as a `Buffer` object.\n",
       "\n"
      ]
     },
     "metadata": {},
     "output_type": "display_data"
    },
    {
     "data": {
      "text/markdown": [
       "```javascript\n",
       "// Ensure you have 'node-fetch' installed: npm install node-fetch\n",
       "const fetch = require('node-fetch');\n",
       "\n",
       "/**\n",
       " * Generates a bar chart image of Denis Villeneuve's recent movie runtimes\n",
       " * using QuickChart.io and returns it as a Buffer.\n",
       " *\n",
       " * @returns {Promise<Buffer>} A Promise that resolves to a Buffer object\n",
       " *                            containing the chart image data.\n",
       " */\n",
       "async function generateVilleneuveRuntimesPlot() {\n",
       "    const moviesData = [\n",
       "        { title: 'Dune: Part Two (2024)', runtime: 166 },\n",
       "        { title: 'Dune (2021)', runtime: 155 },\n",
       "        { title: 'Blade Runner 2049 (2017)', runtime: 163 },\n",
       "        { title: 'Arrival (2016)', runtime: 116 },\n",
       "        { title: 'Sicario (2015)', runtime: 121 },\n",
       "        { title: 'Prisoners (2013)', runtime: 153 },\n",
       "        { title: 'Enemy (2013)', runtime: 90 },\n",
       "        { title: 'Incendies (2010)', runtime: 130 },\n",
       "        { title: 'Polytechnique (2009)', runtime: 77 },\n",
       "        { title: 'Maelstr\u00f6m (2000)', runtime: 88 }\n",
       "    ];\n",
       "\n",
       "    const labels = moviesData.map(movie => movie.title);\n",
       "    const data = moviesData.map(movie => movie.runtime);\n",
       "\n",
       "    const chartConfig = {\n",
       "        type: 'bar',\n",
       "        data: {\n",
       "            labels: labels,\n",
       "            datasets: [{\n",
       "                label: 'Runtime (minutes)',\n",
       "                data: data,\n",
       "                backgroundColor: 'rgba(75, 192, 192, 0.6)',\n",
       "                borderColor: 'rgba(75, 192, 192, 1)',\n",
       "                borderWidth: 1\n",
       "            }]\n",
       "        },\n",
       "        options: {\n",
       "            indexAxis: 'y', // Makes it a horizontal bar chart\n",
       "            responsive: true,\n",
       "            plugins: {\n",
       "                title: {\n",
       "                    display: true,\n",
       "                    text: 'Runtimes of 10 Most Recent Denis Villeneuve Movies',\n",
       "                    font: {\n",
       "                        size: 20\n",
       "                    }\n",
       "                },\n",
       "                legend: {\n",
       "                    display: false\n",
       "                }\n",
       "            },\n",
       "            scales: {\n",
       "                x: {\n",
       "                    beginAtZero: true,\n",
       "                    title: {\n",
       "                        display: true,\n",
       "                        text: 'Runtime (minutes)'\n",
       "                    }\n",
       "                },\n",
       "                y: {\n",
       "                    title: {\n",
       "                        display: true,\n",
       "                        text: 'Movie Title'\n",
       "                    }\n",
       "                }\n",
       "            }\n",
       "        }\n",
       "    };\n",
       "\n",
       "    const quickChartUrl = 'https://quickchart.io/chart';\n",
       "\n",
       "    try {\n",
       "        const response = await fetch(quickChartUrl, {\n",
       "            method: 'POST',\n",
       "            headers: {\n",
       "                'Content-Type': 'application/json',\n",
       "            },\n",
       "            body: JSON.stringify({\n",
       "                chart: chartConfig,\n",
       "                width: 800,  // Adjust width as needed\n",
       "                height: 600, // Adjust height as needed\n",
       "                format: 'png',\n",
       "                // Add any other QuickChart.io options here\n",
       "            }),\n",
       "        });\n",
       "\n",
       "        if (!response.ok) {\n",
       "            throw new Error(`QuickChart.io API error: ${response.statusText}`);\n",
       "        }\n",
       "\n",
       "        // QuickChart.io returns the image directly in the response body\n",
       "        const imageBuffer = await response.buffer();\n",
       "        return imageBuffer;\n",
       "\n",
       "    } catch (error) {\n",
       "        console.error('Error generating chart:', error);\n",
       "        throw error; // Re-throw the error for the caller to handle\n",
       "    }\n",
       "}\n",
       "\n",
       "// Example usage (for testing purposes, if you run this in a Node.js environment):\n",
       "// (async () => {\n",
       "//     try {\n",
       "//         const imageBuffer = await generateVilleneuveRuntimesPlot();\n",
       "//         require('fs').writeFileSync('villeneuve_runtimes_plot.png', imageBuffer);\n",
       "//         console.log('Plot image generated and saved as villeneuve_runtimes_plot.png');\n",
       "//     } catch (err) {\n",
       "//         console.error('Failed to generate plot:', err);\n",
       "//     }\n",
       "// })();\n",
       "```"
      ]
     },
     "metadata": {},
     "output_type": "display_data"
    },
    {
     "data": {
      "text/html": [
       "<style>\n",
       ".container {\n",
       "  align-items: center;\n",
       "  border-radius: 8px;\n",
       "  display: flex;\n",
       "  font-family: Google Sans, Roboto, sans-serif;\n",
       "  font-size: 14px;\n",
       "  line-height: 20px;\n",
       "  padding: 8px 12px;\n",
       "}\n",
       ".chip {\n",
       "  display: inline-block;\n",
       "  border: solid 1px;\n",
       "  border-radius: 16px;\n",
       "  min-width: 14px;\n",
       "  padding: 5px 16px;\n",
       "  text-align: center;\n",
       "  user-select: none;\n",
       "  margin: 0 8px;\n",
       "  -webkit-tap-highlight-color: transparent;\n",
       "}\n",
       ".carousel {\n",
       "  overflow: auto;\n",
       "  scrollbar-width: none;\n",
       "  white-space: nowrap;\n",
       "  margin-right: -12px;\n",
       "}\n",
       ".headline {\n",
       "  display: flex;\n",
       "  margin-right: 4px;\n",
       "}\n",
       ".gradient-container {\n",
       "  position: relative;\n",
       "}\n",
       ".gradient {\n",
       "  position: absolute;\n",
       "  transform: translate(3px, -9px);\n",
       "  height: 36px;\n",
       "  width: 9px;\n",
       "}\n",
       "@media (prefers-color-scheme: light) {\n",
       "  .container {\n",
       "    background-color: #fafafa;\n",
       "    box-shadow: 0 0 0 1px #0000000f;\n",
       "  }\n",
       "  .headline-label {\n",
       "    color: #1f1f1f;\n",
       "  }\n",
       "  .chip {\n",
       "    background-color: #ffffff;\n",
       "    border-color: #d2d2d2;\n",
       "    color: #5e5e5e;\n",
       "    text-decoration: none;\n",
       "  }\n",
       "  .chip:hover {\n",
       "    background-color: #f2f2f2;\n",
       "  }\n",
       "  .chip:focus {\n",
       "    background-color: #f2f2f2;\n",
       "  }\n",
       "  .chip:active {\n",
       "    background-color: #d8d8d8;\n",
       "    border-color: #b6b6b6;\n",
       "  }\n",
       "  .logo-dark {\n",
       "    display: none;\n",
       "  }\n",
       "  .gradient {\n",
       "    background: linear-gradient(90deg, #fafafa 15%, #fafafa00 100%);\n",
       "  }\n",
       "}\n",
       "@media (prefers-color-scheme: dark) {\n",
       "  .container {\n",
       "    background-color: #1f1f1f;\n",
       "    box-shadow: 0 0 0 1px #ffffff26;\n",
       "  }\n",
       "  .headline-label {\n",
       "    color: #fff;\n",
       "  }\n",
       "  .chip {\n",
       "    background-color: #2c2c2c;\n",
       "    border-color: #3c4043;\n",
       "    color: #fff;\n",
       "    text-decoration: none;\n",
       "  }\n",
       "  .chip:hover {\n",
       "    background-color: #353536;\n",
       "  }\n",
       "  .chip:focus {\n",
       "    background-color: #353536;\n",
       "  }\n",
       "  .chip:active {\n",
       "    background-color: #464849;\n",
       "    border-color: #53575b;\n",
       "  }\n",
       "  .logo-light {\n",
       "    display: none;\n",
       "  }\n",
       "  .gradient {\n",
       "    background: linear-gradient(90deg, #1f1f1f 15%, #1f1f1f00 100%);\n",
       "  }\n",
       "}\n",
       "</style>\n",
       "<div class=\"container\">\n",
       "  <div class=\"headline\">\n",
       "    <svg class=\"logo-light\" width=\"18\" height=\"18\" viewBox=\"9 9 35 35\" fill=\"none\" xmlns=\"http://www.w3.org/2000/svg\">\n",
       "      <path fill-rule=\"evenodd\" clip-rule=\"evenodd\" d=\"M42.8622 27.0064C42.8622 25.7839 42.7525 24.6084 42.5487 23.4799H26.3109V30.1568H35.5897C35.1821 32.3041 33.9596 34.1222 32.1258 35.3448V39.6864H37.7213C40.9814 36.677 42.8622 32.2571 42.8622 27.0064V27.0064Z\" fill=\"#4285F4\"/>\n",
       "      <path fill-rule=\"evenodd\" clip-rule=\"evenodd\" d=\"M26.3109 43.8555C30.9659 43.8555 34.8687 42.3195 37.7213 39.6863L32.1258 35.3447C30.5898 36.3792 28.6306 37.0061 26.3109 37.0061C21.8282 37.0061 18.0195 33.9811 16.6559 29.906H10.9194V34.3573C13.7563 39.9841 19.5712 43.8555 26.3109 43.8555V43.8555Z\" fill=\"#34A853\"/>\n",
       "      <path fill-rule=\"evenodd\" clip-rule=\"evenodd\" d=\"M16.6559 29.8904C16.3111 28.8559 16.1074 27.7588 16.1074 26.6146C16.1074 25.4704 16.3111 24.3733 16.6559 23.3388V18.8875H10.9194C9.74388 21.2072 9.06992 23.8247 9.06992 26.6146C9.06992 29.4045 9.74388 32.022 10.9194 34.3417L15.3864 30.8621L16.6559 29.8904V29.8904Z\" fill=\"#FBBC05\"/>\n",
       "      <path fill-rule=\"evenodd\" clip-rule=\"evenodd\" d=\"M26.3109 16.2386C28.85 16.2386 31.107 17.1164 32.9095 18.8091L37.8466 13.8719C34.853 11.082 30.9659 9.3736 26.3109 9.3736C19.5712 9.3736 13.7563 13.245 10.9194 18.8875L16.6559 23.3388C18.0195 19.2636 21.8282 16.2386 26.3109 16.2386V16.2386Z\" fill=\"#EA4335\"/>\n",
       "    </svg>\n",
       "    <svg class=\"logo-dark\" width=\"18\" height=\"18\" viewBox=\"0 0 48 48\" xmlns=\"http://www.w3.org/2000/svg\">\n",
       "      <circle cx=\"24\" cy=\"23\" fill=\"#FFF\" r=\"22\"/>\n",
       "      <path d=\"M33.76 34.26c2.75-2.56 4.49-6.37 4.49-11.26 0-.89-.08-1.84-.29-3H24.01v5.99h8.03c-.4 2.02-1.5 3.56-3.07 4.56v.75l3.91 2.97h.88z\" fill=\"#4285F4\"/>\n",
       "      <path d=\"M15.58 25.77A8.845 8.845 0 0 0 24 31.86c1.92 0 3.62-.46 4.97-1.31l4.79 3.71C31.14 36.7 27.65 38 24 38c-5.93 0-11.01-3.4-13.45-8.36l.17-1.01 4.06-2.85h.8z\" fill=\"#34A853\"/>\n",
       "      <path d=\"M15.59 20.21a8.864 8.864 0 0 0 0 5.58l-5.03 3.86c-.98-2-1.53-4.25-1.53-6.64 0-2.39.55-4.64 1.53-6.64l1-.22 3.81 2.98.22 1.08z\" fill=\"#FBBC05\"/>\n",
       "      <path d=\"M24 14.14c2.11 0 4.02.75 5.52 1.98l4.36-4.36C31.22 9.43 27.81 8 24 8c-5.93 0-11.01 3.4-13.45 8.36l5.03 3.85A8.86 8.86 0 0 1 24 14.14z\" fill=\"#EA4335\"/>\n",
       "    </svg>\n",
       "    <div class=\"gradient-container\"><div class=\"gradient\"></div></div>\n",
       "  </div>\n",
       "  <div class=\"carousel\">\n",
       "    <a class=\"chip\" href=\"https://vertexaisearch.cloud.google.com/grounding-api-redirect/AUZIYQFNQ2xM1LxEPuDh107UlZP6F066n9fCz0hBUADKG40kKbVNmLupMs2gwtH3aHLk5k8ruGrqanyJfycJLnzYfIpls1hRuyQLZZs9L9O78zEyZQmb55A4Qr2Z6mDmohEDAKLFUPMglXMQopWOLhxJRVAtGQZSTMfLycl7j7BoDLGd8oBzRzr6LcRSkIng3FOpVXz6BTV1Z0unAgun4-BEZ8aBHfhe9JpEYQ==\">quickchart.io node.js example buffer</a>\n",
       "    <a class=\"chip\" href=\"https://vertexaisearch.cloud.google.com/grounding-api-redirect/AUZIYQF7QR9LrtXLxtrKo3sLWSLfGPlBQYo7gBDOBxncanhmEj7727YMX7rimIPrygeZ4T1SgeGUlCgC6nsOkn0llN7EfwHokXtxz11EUksKWxTMHFEXfIMzdDL3Wcg2waKb9fps2hXev06xn9RiKwMSY8b5sIKaUgJxOsgVOK6Q-sIdyJXCNd9tQNvU6U5v8yQasdL9CIrmc7zwtA5ZsFgckw==\">Maelstr\u00f6m 2000 runtime</a>\n",
       "    <a class=\"chip\" href=\"https://vertexaisearch.cloud.google.com/grounding-api-redirect/AUZIYQH0KVIonNqxIa1tJTjDS5GIKF-uLsDzLiqa1qXYDrwXEySpSnqdkD2mlpFyw77KM0F2dGJlkcomZ7Hp2apQ8zGAaQflMFRTql3FyDGNO0hbLffqLkHqvGoQk7qnk8VGgpKYpsMNYl9_fz9Mslq-G4svzp6rgORErgjNevBV0g1T-j3Dkttrew2n5WKQ-75t50seUZfUhIgK\">Sicario 2015 runtime</a>\n",
       "    <a class=\"chip\" href=\"https://vertexaisearch.cloud.google.com/grounding-api-redirect/AUZIYQEN16u3FnUXxzxwTDA3VMTTo1GUKGlnLvpO8Zd3UYEJSBh6BUQHaFXn1b8K9yQai4OYviBnRhOeODiH9XhRmeSADISbPeoEPezvwYYp6UG7OWeWLGRgzDy6sSgv4GC2b-eELLik0pvDcxO1RsIb-ZLt23AwS5V0iUvNVygz68sjFC3jQNHhe0UU2NRODXM7KLGUepDJVmeZsg==\">Dune Part Two runtime</a>\n",
       "    <a class=\"chip\" href=\"https://vertexaisearch.cloud.google.com/grounding-api-redirect/AUZIYQEKoyBQ1VgsE4t5X8Xgq4lYUD2a2hwbesuk_KT9ldbWtscwboFoSCch0_f8c-YwE7ySgS4OukUYtqohbapSX8oO_T3igCYsE4nw39pzr56jnATasz8SPY5iJgEhwd4mGaTHsH9IjL4ThcWLNeTgrhgSvrMD4Jk72b9z_WXGEncvixbiyYYJcv45BdCCJc0E4MejQeZh\">Dune 2021 runtime</a>\n",
       "    <a class=\"chip\" href=\"https://vertexaisearch.cloud.google.com/grounding-api-redirect/AUZIYQGXpkUsOkIE8ios2zMxhAgiDdM7vaYSIqtlO_YrW6aCWD448tfi8ui9NvXdi51nkFCcfOhQT973wT_Ny_DxVMFvObdrZ1E0-iKaXlrFfDjqQOjJawe3jM2Wx0lcZ7CfLYclNDOoiUnlp0s7g7i6Amp4gIzpODqkd0wy_ek2B1aHoaTdtJW5dnt1dcXcWCIQdCHdX0lIPszAUblrk5sy\">Polytechnique 2009 runtime</a>\n",
       "    <a class=\"chip\" href=\"https://vertexaisearch.cloud.google.com/grounding-api-redirect/AUZIYQHxCqBXx1wNcuPDcwk-e4RxXCarPdzC0AxfQ8RnCfcUb7gACg_Zq6LBCfxrRHcwVPB_LjrwpI91se0VuGGHKzS9LhfP1sqSxixkJCWYPK4RDd70IZshUoRrfuYFLsXKtZ8UhD6F_QrxB6pMwSa_kZAPet3B4aYQZqBJZUZVPWRHUFf6uY8_oVSiB2t--1QcS4FphlC-AxLRZqE=\">Incendies 2010 runtime</a>\n",
       "    <a class=\"chip\" href=\"https://vertexaisearch.cloud.google.com/grounding-api-redirect/AUZIYQGTZqGYxD3MZ0o3YJWkKq2zmo4vxCTufEHAsjlBrmOhRXmc5Sj4w9F2W7NCpMDS3WNRAXlGFpq0Ngf9ueU8B_iov-aT_EYv9WfNEZfPtgaGQ0ovRoQlhiCB0-n4Wnv7BZc-cqoFVj28jwldp9rCrWCU2PMx6UfUtI7tgbdd5u93vnqBK6d8rNYHrRVz3ViPZ5EDaYCsFg==\">Enemy 2013 runtime</a>\n",
       "  </div>\n",
       "</div>\n"
      ]
     },
     "metadata": {},
     "output_type": "display_data"
    }
   ],
   "source": [
    "const movie_chat = ai.chats.create({\n",
    "  model: MODEL_ID,\n",
    "  config: {\n",
    "    tools: [{ googleSearch: {} }],\n",
    "  },\n",
    "});\n",
    "const movie_response = await movie_chat.sendMessage({\n",
    "  message:\n",
    "    \"Generate some javascript code to plot the runtimes of the 10 more recent Denis Villeneuve movies. Write a server side function that generates the plot image and returns the `Buffer` object (Use quickchart.io).\",\n",
    "});\n",
    "showParts(movie_response);\n"
   ]
  },
  {
   "attachments": {},
   "cell_type": "markdown",
   "metadata": {},
   "source": [
    "First review the supplied code to make sure it does what you expect, then copy it here to try out the chart.\n"
   ]
  },
  {
   "cell_type": "code",
   "execution_count": 19,
   "metadata": {},
   "outputs": [
    {
     "name": "stdout",
     "output_type": "stream",
     "text": [
      "JavaScript code executed successfully\n"
     ]
    },
    {
     "data": {
      "image/png": "[encoded data removed]"
     },
     "metadata": {},
     "output_type": "display_data"
    }
   ],
   "source": [
    "const jsCodeBlock = movie_response.text?.match(/```javascript\\n([\\s\\S]*?)\\n```/);\n",
    "const jsCode = jsCodeBlock ? jsCodeBlock[1] : \"\";\n",
    "const wrappedJsCode = `\n",
    "    ${jsCode}\n",
    "\n",
    "    const tslab = require(\"tslab\");\n",
    "    generateVilleneuveRuntimesPlot().then((buffer) => {\n",
    "        tslab.display.png(new Uint8Array(buffer));\n",
    "    }).catch((err) => {\n",
    "        console.error(err);\n",
    "    });\n",
    "    console.log(\"JavaScript code executed successfully\");\n",
    "`;\n",
    "// eslint-disable-next-line no-eval\n",
    "eval(wrappedJsCode);\n"
   ]
  },
  {
   "attachments": {},
   "cell_type": "markdown",
   "metadata": {},
   "source": [
    "One feature of using a chat conversation to do this is that you can now ask the model to make changes.\n"
   ]
  },
  {
   "cell_type": "code",
   "execution_count": 20,
   "metadata": {},
   "outputs": [
    {
     "data": {
      "text/markdown": [
       "To give the chart a dark theme, we need to adjust the colors of various elements within the `chartConfig` object, including the background, text (title, labels, tick marks), and grid lines.\n",
       "\n",
       "Here's the updated JavaScript code for the server-side function:\n",
       "\n"
      ]
     },
     "metadata": {},
     "output_type": "display_data"
    },
    {
     "data": {
      "text/markdown": [
       "```javascript\n",
       "// Ensure you have 'node-fetch' installed: npm install node-fetch\n",
       "const fetch = require('node-fetch');\n",
       "\n",
       "/**\n",
       " * Generates a bar chart image of Denis Villeneuve's recent movie runtimes\n",
       " * using QuickChart.io and returns it as a Buffer, with a dark theme.\n",
       " *\n",
       " * @returns {Promise<Buffer>} A Promise that resolves to a Buffer object\n",
       " *                            containing the chart image data.\n",
       " */\n",
       "async function generateVilleneuveRuntimesPlotDarkTheme() {\n",
       "    const moviesData = [\n",
       "        { title: 'Dune: Part Two (2024)', runtime: 166 },\n",
       "        { title: 'Dune (2021)', runtime: 155 },\n",
       "        { title: 'Blade Runner 2049 (2017)', runtime: 163 },\n",
       "        { title: 'Arrival (2016)', runtime: 116 },\n",
       "        { title: 'Sicario (2015)', runtime: 121 },\n",
       "        { title: 'Prisoners (2013)', runtime: 153 },\n",
       "        { title: 'Enemy (2013)', runtime: 90 },\n",
       "        { title: 'Incendies (2010)', runtime: 130 },\n",
       "        { title: 'Polytechnique (2009)', runtime: 77 },\n",
       "        { title: 'Maelstr\u00f6m (2000)', runtime: 88 }\n",
       "    ];\n",
       "\n",
       "    const labels = moviesData.map(movie => movie.title);\n",
       "    const data = moviesData.map(movie => movie.runtime);\n",
       "\n",
       "    const chartConfig = {\n",
       "        type: 'bar',\n",
       "        data: {\n",
       "            labels: labels,\n",
       "            datasets: [{\n",
       "                label: 'Runtime (minutes)',\n",
       "                data: data,\n",
       "                backgroundColor: 'rgba(100, 149, 237, 0.7)', // DodgerBlue with transparency\n",
       "                borderColor: 'rgba(100, 149, 237, 1)',\n",
       "                borderWidth: 1\n",
       "            }]\n",
       "        },\n",
       "        options: {\n",
       "            indexAxis: 'y', // Makes it a horizontal bar chart\n",
       "            responsive: true,\n",
       "            // Global font color for the entire chart (titles, labels, ticks)\n",
       "            color: '#E0E0E0', // Light grey for all text [1]\n",
       "            plugins: {\n",
       "                title: {\n",
       "                    display: true,\n",
       "                    text: 'Runtimes of 10 Most Recent Denis Villeneuve Movies',\n",
       "                    font: {\n",
       "                        size: 20,\n",
       "                        color: '#FFFFFF' // White title [1]\n",
       "                    }\n",
       "                },\n",
       "                legend: {\n",
       "                    display: false\n",
       "                }\n",
       "            },\n",
       "            scales: {\n",
       "                x: {\n",
       "                    beginAtZero: true,\n",
       "                    title: {\n",
       "                        display: true,\n",
       "                        text: 'Runtime (minutes)',\n",
       "                        color: '#E0E0E0' // Light grey axis title\n",
       "                    },\n",
       "                    ticks: {\n",
       "                        color: '#E0E0E0' // Light grey tick labels\n",
       "                    },\n",
       "                    grid: {\n",
       "                        color: 'rgba(200, 200, 200, 0.2)' // Subtle light grey grid lines [5, 7]\n",
       "                    }\n",
       "                },\n",
       "                y: {\n",
       "                    title: {\n",
       "                        display: true,\n",
       "                        text: 'Movie Title',\n",
       "                        color: '#E0E0E0' // Light grey axis title\n",
       "                    },\n",
       "                    ticks: {\n",
       "                        color: '#E0E0E0' // Light grey tick labels\n",
       "                    },\n",
       "                    grid: {\n",
       "                        color: 'rgba(200, 200, 200, 0.2)' // Subtle light grey grid lines [5, 7]\n",
       "                    }\n",
       "                }\n",
       "            }\n",
       "        },\n",
       "        // QuickChart.io specific option for chart background color\n",
       "        backgroundColor: '#333333' // Dark grey background for the entire chart image [13]\n",
       "    };\n",
       "\n",
       "    const quickChartUrl = 'https://quickchart.io/chart';\n",
       "\n",
       "    try {\n",
       "        const response = await fetch(quickChartUrl, {\n",
       "            method: 'POST',\n",
       "            headers: {\n",
       "                'Content-Type': 'application/json',\n",
       "            },\n",
       "            body: JSON.stringify({\n",
       "                chart: chartConfig,\n",
       "                width: 800,\n",
       "                height: 600,\n",
       "                format: 'png',\n",
       "                // You can also set a background color here if not using chart.options.plugins.chartArea.backgroundColor\n",
       "                // For QuickChart.io, the 'backgroundColor' parameter outside 'chart' config sets the canvas background [9]\n",
       "                backgroundColor: '#282828' // Even darker background for the canvas itself (if different from chartArea)\n",
       "            }),\n",
       "        });\n",
       "\n",
       "        if (!response.ok) {\n",
       "            throw new Error(`QuickChart.io API error: ${response.statusText}`);\n",
       "        }\n",
       "\n",
       "        const imageBuffer = await response.buffer();\n",
       "        return imageBuffer;\n",
       "\n",
       "    } catch (error) {\n",
       "        console.error('Error generating chart:', error);\n",
       "        throw error;\n",
       "    }\n",
       "}\n",
       "\n",
       "// Example usage (for testing purposes, if you run this in a Node.js environment):\n",
       "// (async () => {\n",
       "//     try {\n",
       "//         const imageBuffer = await generateVilleneuveRuntimesPlotDarkTheme();\n",
       "//         require('fs').writeFileSync('villeneuve_runtimes_plot_dark.png', imageBuffer);\n",
       "//         console.log('Dark theme plot image generated and saved as villeneuve_runtimes_plot_dark.png');\n",
       "//     } catch (err) {\n",
       "//         console.error('Failed to generate dark theme plot:', err);\n",
       "//     }\n",
       "// })();\n",
       "```"
      ]
     },
     "metadata": {},
     "output_type": "display_data"
    },
    {
     "data": {
      "text/html": [
       "<style>\n",
       ".container {\n",
       "  align-items: center;\n",
       "  border-radius: 8px;\n",
       "  display: flex;\n",
       "  font-family: Google Sans, Roboto, sans-serif;\n",
       "  font-size: 14px;\n",
       "  line-height: 20px;\n",
       "  padding: 8px 12px;\n",
       "}\n",
       ".chip {\n",
       "  display: inline-block;\n",
       "  border: solid 1px;\n",
       "  border-radius: 16px;\n",
       "  min-width: 14px;\n",
       "  padding: 5px 16px;\n",
       "  text-align: center;\n",
       "  user-select: none;\n",
       "  margin: 0 8px;\n",
       "  -webkit-tap-highlight-color: transparent;\n",
       "}\n",
       ".carousel {\n",
       "  overflow: auto;\n",
       "  scrollbar-width: none;\n",
       "  white-space: nowrap;\n",
       "  margin-right: -12px;\n",
       "}\n",
       ".headline {\n",
       "  display: flex;\n",
       "  margin-right: 4px;\n",
       "}\n",
       ".gradient-container {\n",
       "  position: relative;\n",
       "}\n",
       ".gradient {\n",
       "  position: absolute;\n",
       "  transform: translate(3px, -9px);\n",
       "  height: 36px;\n",
       "  width: 9px;\n",
       "}\n",
       "@media (prefers-color-scheme: light) {\n",
       "  .container {\n",
       "    background-color: #fafafa;\n",
       "    box-shadow: 0 0 0 1px #0000000f;\n",
       "  }\n",
       "  .headline-label {\n",
       "    color: #1f1f1f;\n",
       "  }\n",
       "  .chip {\n",
       "    background-color: #ffffff;\n",
       "    border-color: #d2d2d2;\n",
       "    color: #5e5e5e;\n",
       "    text-decoration: none;\n",
       "  }\n",
       "  .chip:hover {\n",
       "    background-color: #f2f2f2;\n",
       "  }\n",
       "  .chip:focus {\n",
       "    background-color: #f2f2f2;\n",
       "  }\n",
       "  .chip:active {\n",
       "    background-color: #d8d8d8;\n",
       "    border-color: #b6b6b6;\n",
       "  }\n",
       "  .logo-dark {\n",
       "    display: none;\n",
       "  }\n",
       "  .gradient {\n",
       "    background: linear-gradient(90deg, #fafafa 15%, #fafafa00 100%);\n",
       "  }\n",
       "}\n",
       "@media (prefers-color-scheme: dark) {\n",
       "  .container {\n",
       "    background-color: #1f1f1f;\n",
       "    box-shadow: 0 0 0 1px #ffffff26;\n",
       "  }\n",
       "  .headline-label {\n",
       "    color: #fff;\n",
       "  }\n",
       "  .chip {\n",
       "    background-color: #2c2c2c;\n",
       "    border-color: #3c4043;\n",
       "    color: #fff;\n",
       "    text-decoration: none;\n",
       "  }\n",
       "  .chip:hover {\n",
       "    background-color: #353536;\n",
       "  }\n",
       "  .chip:focus {\n",
       "    background-color: #353536;\n",
       "  }\n",
       "  .chip:active {\n",
       "    background-color: #464849;\n",
       "    border-color: #53575b;\n",
       "  }\n",
       "  .logo-light {\n",
       "    display: none;\n",
       "  }\n",
       "  .gradient {\n",
       "    background: linear-gradient(90deg, #1f1f1f 15%, #1f1f1f00 100%);\n",
       "  }\n",
       "}\n",
       "</style>\n",
       "<div class=\"container\">\n",
       "  <div class=\"headline\">\n",
       "    <svg class=\"logo-light\" width=\"18\" height=\"18\" viewBox=\"9 9 35 35\" fill=\"none\" xmlns=\"http://www.w3.org/2000/svg\">\n",
       "      <path fill-rule=\"evenodd\" clip-rule=\"evenodd\" d=\"M42.8622 27.0064C42.8622 25.7839 42.7525 24.6084 42.5487 23.4799H26.3109V30.1568H35.5897C35.1821 32.3041 33.9596 34.1222 32.1258 35.3448V39.6864H37.7213C40.9814 36.677 42.8622 32.2571 42.8622 27.0064V27.0064Z\" fill=\"#4285F4\"/>\n",
       "      <path fill-rule=\"evenodd\" clip-rule=\"evenodd\" d=\"M26.3109 43.8555C30.9659 43.8555 34.8687 42.3195 37.7213 39.6863L32.1258 35.3447C30.5898 36.3792 28.6306 37.0061 26.3109 37.0061C21.8282 37.0061 18.0195 33.9811 16.6559 29.906H10.9194V34.3573C13.7563 39.9841 19.5712 43.8555 26.3109 43.8555V43.8555Z\" fill=\"#34A853\"/>\n",
       "      <path fill-rule=\"evenodd\" clip-rule=\"evenodd\" d=\"M16.6559 29.8904C16.3111 28.8559 16.1074 27.7588 16.1074 26.6146C16.1074 25.4704 16.3111 24.3733 16.6559 23.3388V18.8875H10.9194C9.74388 21.2072 9.06992 23.8247 9.06992 26.6146C9.06992 29.4045 9.74388 32.022 10.9194 34.3417L15.3864 30.8621L16.6559 29.8904V29.8904Z\" fill=\"#FBBC05\"/>\n",
       "      <path fill-rule=\"evenodd\" clip-rule=\"evenodd\" d=\"M26.3109 16.2386C28.85 16.2386 31.107 17.1164 32.9095 18.8091L37.8466 13.8719C34.853 11.082 30.9659 9.3736 26.3109 9.3736C19.5712 9.3736 13.7563 13.245 10.9194 18.8875L16.6559 23.3388C18.0195 19.2636 21.8282 16.2386 26.3109 16.2386V16.2386Z\" fill=\"#EA4335\"/>\n",
       "    </svg>\n",
       "    <svg class=\"logo-dark\" width=\"18\" height=\"18\" viewBox=\"0 0 48 48\" xmlns=\"http://www.w3.org/2000/svg\">\n",
       "      <circle cx=\"24\" cy=\"23\" fill=\"#FFF\" r=\"22\"/>\n",
       "      <path d=\"M33.76 34.26c2.75-2.56 4.49-6.37 4.49-11.26 0-.89-.08-1.84-.29-3H24.01v5.99h8.03c-.4 2.02-1.5 3.56-3.07 4.56v.75l3.91 2.97h.88z\" fill=\"#4285F4\"/>\n",
       "      <path d=\"M15.58 25.77A8.845 8.845 0 0 0 24 31.86c1.92 0 3.62-.46 4.97-1.31l4.79 3.71C31.14 36.7 27.65 38 24 38c-5.93 0-11.01-3.4-13.45-8.36l.17-1.01 4.06-2.85h.8z\" fill=\"#34A853\"/>\n",
       "      <path d=\"M15.59 20.21a8.864 8.864 0 0 0 0 5.58l-5.03 3.86c-.98-2-1.53-4.25-1.53-6.64 0-2.39.55-4.64 1.53-6.64l1-.22 3.81 2.98.22 1.08z\" fill=\"#FBBC05\"/>\n",
       "      <path d=\"M24 14.14c2.11 0 4.02.75 5.52 1.98l4.36-4.36C31.22 9.43 27.81 8 24 8c-5.93 0-11.01 3.4-13.45 8.36l5.03 3.85A8.86 8.86 0 0 1 24 14.14z\" fill=\"#EA4335\"/>\n",
       "    </svg>\n",
       "    <div class=\"gradient-container\"><div class=\"gradient\"></div></div>\n",
       "  </div>\n",
       "  <div class=\"carousel\">\n",
       "    <a class=\"chip\" href=\"https://vertexaisearch.cloud.google.com/grounding-api-redirect/AUZIYQF3lpo-_N_iYqlgpD770E_YjQhxWcaTq8pYV2FA36S4-GPjaYfJ8XFpWKZasUMpnKvit9ToKXUzpi2HPJs8Ha0uHUrO_k-gjyFsZjVoiOEBFZFCI05gM-o0mgvCO8VQ6ZoFz1VFVHXzyh7H6ShFiqUgaAv2uPBZH0GFXbj_jbp9XPBU7mw4EZqG9dkVJsD6dNZTtC1u8Hj3rwMXBBjK\">chart.js dark theme options</a>\n",
       "    <a class=\"chip\" href=\"https://vertexaisearch.cloud.google.com/grounding-api-redirect/AUZIYQG-h5A8GbwHOFQTCUg5wUkbBr6nyYBTIWQSOoeWT2LDZkrsgJQcG0rcbhOu-HkgyLHf74SiNG_yc_om9QEPh1QmFYpinY_ahwiTUQVIJ2W4xa9LBIyXqFvOA9oI8IeBU0KgoA5AmaZrYC9upAbhQDosbETiaw3JddYBOq24XrTurMEHb00Yt6gW38D0AgopeL5z6H02qPcDyjtm4GlP0nQ11F7HddBkC7Z3NnA=\">quickchart.io dark theme example chart.js</a>\n",
       "    <a class=\"chip\" href=\"https://vertexaisearch.cloud.google.com/grounding-api-redirect/AUZIYQGmHNXaHsC0eTJ0_MyRhOKNwQvbpNF7z3jRwmKNV39e_-hkUQJ8iQRNdV49BFMB5msF8T6qFyJC4o9RjFCC4MxN6244TJgMafGUS4OZYcBQtqrlhiBAM_sTI6rqxKXMDyYHVonu4FDimqboVEqbwZ7Bu5vvTMzk50to94BjExgfwxwsxuH7XGnU4m4ClRO1Su0WihkGMKxZ9sPZLKIkuX1QBrZyE4CHv9A47g==\">chart.js global options background color</a>\n",
       "  </div>\n",
       "</div>\n"
      ]
     },
     "metadata": {},
     "output_type": "display_data"
    }
   ],
   "source": [
    "const movie_response_1 = await movie_chat.sendMessage({\n",
    "  message: \"Looks great! Can you give the chart a dark theme instead?\",\n",
    "});\n",
    "showParts(movie_response_1);\n"
   ]
  },
  {
   "cell_type": "code",
   "execution_count": 22,
   "metadata": {},
   "outputs": [
    {
     "name": "stdout",
     "output_type": "stream",
     "text": [
      "JavaScript code executed successfully\n"
     ]
    },
    {
     "data": {
      "image/png": "[encoded data removed]"
     },
     "metadata": {},
     "output_type": "display_data"
    }
   ],
   "source": [
    "const darkJsCodeBlock = movie_response_1.text?.match(/```javascript\\n([\\s\\S]*?)\\n```/);\n",
    "const darkJsCode = darkJsCodeBlock ? darkJsCodeBlock[1] : \"\";\n",
    "const wrappedDarkJsCode = `\n",
    "    ${darkJsCode}\n",
    "\n",
    "    const tslab = require(\"tslab\");\n",
    "    generateVilleneuveRuntimesPlotDarkTheme().then((buffer) => {\n",
    "        tslab.display.png(new Uint8Array(buffer));\n",
    "    }).catch((err) => {\n",
    "        console.error(err);\n",
    "    });\n",
    "    console.log(\"JavaScript code executed successfully\");\n",
    "`;\n",
    "// eslint-disable-next-line no-eval\n",
    "eval(wrappedDarkJsCode);\n"
   ]
  },
  {
   "attachments": {},
   "cell_type": "markdown",
   "metadata": {},
   "source": [
    "## Use search in the Multimodal Live API\n",
    "\n",
    "The Search tool can be used in a live streaming context to have the model formulate grounded responses during the conversation.\n"
   ]
  },
  {
   "cell_type": "code",
   "execution_count": 23,
   "metadata": {},
   "outputs": [],
   "source": [
    "const LIVE_MODEL_ID = \"gemini-2.0-flash-live-001\";\n"
   ]
  },
  {
   "attachments": {},
   "cell_type": "markdown",
   "metadata": {},
   "source": [
    "### Define some helpers\n",
    "\n",
    "You\u2019re going to use the Live API\u2019s audio output, the easiest way hear it in Colab is to write the PCM data out as a WAV file:\n"
   ]
  },
  {
   "cell_type": "code",
   "execution_count": 24,
   "metadata": {},
   "outputs": [],
   "source": [
    "const fs = require(\"fs\") as typeof import(\"fs\");\n",
    "const path = require(\"path\") as typeof import(\"path\");\n",
    "const wave = require(\"wavefile\") as typeof import(\"wavefile\");\n",
    "\n",
    "function saveAudioToFile(audioData: Int16Array, filePath: string) {\n",
    "  fs.mkdirSync(path.dirname(filePath), { recursive: true });\n",
    "  const wav = new wave.WaveFile();\n",
    "  wav.fromScratch(1, 24000, \"16\", audioData);\n",
    "  fs.writeFileSync(filePath, wav.toBuffer());\n",
    "  console.debug(`Audio saved to ${filePath}`);\n",
    "}\n"
   ]
  },
  {
   "attachments": {},
   "cell_type": "markdown",
   "metadata": {},
   "source": [
    "To use the bi-directional streaming API in Colab, you will buffer the audio stream. Define a `handleServerContent` and `handleToolCall` helper functions to handle the server content and tool calls, respectively. These will be used to process the text, code, tool calls, and html content returned by the model.\n",
    "\n",
    "As each of the following examples only use a single prompt, also define a `run` helper to wrap the setup and prompt execution steps into a single function call. This helper takes a `prompt`, response `modality` and `tools` to use, and returns the response text or audio based on the modality.\n"
   ]
  },
  {
   "cell_type": "code",
   "execution_count": 40,
   "metadata": {},
   "outputs": [],
   "source": [
    "import { FunctionResponse, LiveServerContent, LiveServerToolCall, Modality, Session, Tool } from \"@google/genai\";\n",
    "\n",
    "function handleServerContent(content: LiveServerContent) {\n",
    "  if (content.modelTurn) {\n",
    "    for (const turn of content.modelTurn.parts ?? []) {\n",
    "      if (turn.executableCode) {\n",
    "        tslab.display.markdown(\"-------------------------------\");\n",
    "        tslab.display.markdown(`\\`\\`\\`python\\n${turn.executableCode.code}\\n\\`\\`\\``);\n",
    "        tslab.display.markdown(\"-------------------------------\");\n",
    "      }\n",
    "      if (turn.codeExecutionResult) {\n",
    "        tslab.display.markdown(\"-------------------------------\");\n",
    "        tslab.display.markdown(`\\`\\`\\`\\n${turn.codeExecutionResult.output}\\n\\`\\`\\``);\n",
    "        tslab.display.markdown(\"-------------------------------\");\n",
    "      }\n",
    "    }\n",
    "  }\n",
    "  if (content.groundingMetadata) {\n",
    "    tslab.display.html(content.groundingMetadata.searchEntryPoint?.renderedContent ?? \"\");\n",
    "  }\n",
    "}\n",
    "\n",
    "function handleToolCall(session: Session, toolCall: LiveServerToolCall) {\n",
    "  const responses: FunctionResponse[] = [];\n",
    "  for (const fc of toolCall.functionCalls ?? []) {\n",
    "    console.log(\"Tool call:\", JSON.stringify(fc, null, 2));\n",
    "    responses.push({\n",
    "      id: fc.id,\n",
    "      name: fc.name,\n",
    "      response: {\n",
    "        result: \"ok\",\n",
    "      },\n",
    "    });\n",
    "  }\n",
    "  console.log(\"Tool call responses:\", JSON.stringify(responses, null, 2));\n",
    "  session.sendToolResponse({\n",
    "    functionResponses: responses,\n",
    "  });\n",
    "}\n",
    "\n",
    "async function run(prompt: string, modality: Modality = Modality.TEXT, tools: Tool[] = []) {\n",
    "  const audioData: number[] = [];\n",
    "  const audioFileName = `audio-${Date.now()}.wav`;\n",
    "  let completed = false;\n",
    "  const session = await ai.live.connect({\n",
    "    model: LIVE_MODEL_ID,\n",
    "    callbacks: {\n",
    "      onopen: () => {\n",
    "        console.log(\"Connection opened\");\n",
    "      },\n",
    "      onclose: () => {\n",
    "        console.log(\"Connection closed\");\n",
    "      },\n",
    "      onerror: (error) => {\n",
    "        console.error(\"Error:\", error.message);\n",
    "      },\n",
    "      onmessage: (message) => {\n",
    "        if (message.text) {\n",
    "          tslab.display.markdown(message.text);\n",
    "          return;\n",
    "        }\n",
    "        if (message.data) {\n",
    "          const audioBuffer = Buffer.from(message.data, \"base64\");\n",
    "          const audio = new Int16Array(\n",
    "            audioBuffer.buffer,\n",
    "            audioBuffer.byteOffset,\n",
    "            audioBuffer.length / Int16Array.BYTES_PER_ELEMENT\n",
    "          );\n",
    "          audioData.push(...audio);\n",
    "          return;\n",
    "        }\n",
    "        if (message.serverContent) {\n",
    "          handleServerContent(message.serverContent);\n",
    "          if (message.serverContent.turnComplete) {\n",
    "            completed = true;\n",
    "          }\n",
    "          return;\n",
    "        }\n",
    "        if (message.toolCall) {\n",
    "          handleToolCall(session, message.toolCall);\n",
    "          completed = true;\n",
    "          return;\n",
    "        }\n",
    "      },\n",
    "    },\n",
    "    config: {\n",
    "      tools: tools,\n",
    "      responseModalities: [modality],\n",
    "    },\n",
    "  });\n",
    "  console.log(\"Prompt: \", prompt);\n",
    "  session.sendClientContent({\n",
    "    turns: [prompt],\n",
    "    turnComplete: true,\n",
    "  });\n",
    "  // eslint-disable-next-line @typescript-eslint/no-unnecessary-condition\n",
    "  while (!completed) {\n",
    "    await new Promise((resolve) => setTimeout(resolve, 100));\n",
    "  }\n",
    "  if (audioData.length > 0) {\n",
    "    const audioFilePath = path.join(\"../assets/live\", audioFileName);\n",
    "    saveAudioToFile(new Int16Array(audioData), audioFilePath);\n",
    "    console.log(`Audio saved to ${audioFileName}`);\n",
    "    tslab.display.html(\n",
    "      `<audio controls><source src=\"${audioFilePath}\" type=\"audio/wav\">Your browser does not support the audio element.</audio>`\n",
    "    );\n",
    "  }\n",
    "  console.log(\"Session completed\");\n",
    "  session.close();\n",
    "}\n"
   ]
  },
  {
   "attachments": {},
   "cell_type": "markdown",
   "metadata": {},
   "source": [
    "### Stream with the Search tool\n",
    "\n",
    "First, execute a query without the Search tool to observe the model's response to a time-sensitive query.\n",
    "\n",
    "Note that the Multimodal Live API is a 2-way streaming API, but to simplify running in a notebook, each audio response is buffered and played once it has been fully streamed, so you will need to wait a few seconds before the response starts to play.\n"
   ]
  },
  {
   "cell_type": "code",
   "execution_count": 35,
   "metadata": {},
   "outputs": [
    {
     "name": "stdout",
     "output_type": "stream",
     "text": [
      "Connection opened\n",
      "Prompt:  Who won the skateboarding gold medals in the 2024 olympics?\n",
      "Audio saved to ../assets/live/audio-1750287796747.wav\n",
      "Audio saved to audio-1750287796747.wav\n"
     ]
    },
    {
     "data": {
      "text/html": [
       "<audio controls><source src=\"../assets/live/audio-1750287796747.wav\" type=\"audio/wav\">Your browser does not support the audio element.</audio>"
      ]
     },
     "metadata": {},
     "output_type": "display_data"
    },
    {
     "name": "stdout",
     "output_type": "stream",
     "text": [
      "Session completed\n"
     ]
    },
    {
     "name": "stdout",
     "output_type": "stream",
     "text": [
      "Connection closed\n"
     ]
    }
   ],
   "source": [
    "const _warn_fn = console.warn;\n",
    "// eslint-disable-next-line no-empty-function, @typescript-eslint/no-empty-function\n",
    "console.warn = () => {};\n",
    "await run(\"Who won the skateboarding gold medals in the 2024 olympics?\", google.Modality.AUDIO);\n"
   ]
  },
  {
   "attachments": {},
   "cell_type": "markdown",
   "metadata": {},
   "source": [
    "Now re-run with the Search tool enabled.\n"
   ]
  },
  {
   "cell_type": "code",
   "execution_count": 37,
   "metadata": {},
   "outputs": [
    {
     "name": "stdout",
     "output_type": "stream",
     "text": [
      "Connection opened\n",
      "Prompt:  Who won the skateboarding gold medals in the 2024 olympics?\n"
     ]
    },
    {
     "data": {
      "text/markdown": [
       "-------------------------------"
      ]
     },
     "metadata": {},
     "output_type": "display_data"
    },
    {
     "data": {
      "text/markdown": [
       "```python\n",
       "print(google_search.search(queries=[\"who won skateboarding gold medals 2024 Olympics\"]))\n",
       "\n",
       "```"
      ]
     },
     "metadata": {},
     "output_type": "display_data"
    },
    {
     "data": {
      "text/markdown": [
       "-------------------------------"
      ]
     },
     "metadata": {},
     "output_type": "display_data"
    },
    {
     "data": {
      "text/markdown": [
       "-------------------------------"
      ]
     },
     "metadata": {},
     "output_type": "display_data"
    },
    {
     "data": {
      "text/markdown": [
       "```\n",
       "Looking up information on Google Search.\n",
       "\n",
       "```"
      ]
     },
     "metadata": {},
     "output_type": "display_data"
    },
    {
     "data": {
      "text/markdown": [
       "-------------------------------"
      ]
     },
     "metadata": {},
     "output_type": "display_data"
    },
    {
     "data": {
      "text/html": [
       "<style>\n",
       ".container {\n",
       "  align-items: center;\n",
       "  border-radius: 8px;\n",
       "  display: flex;\n",
       "  font-family: Google Sans, Roboto, sans-serif;\n",
       "  font-size: 14px;\n",
       "  line-height: 20px;\n",
       "  padding: 8px 12px;\n",
       "}\n",
       ".chip {\n",
       "  display: inline-block;\n",
       "  border: solid 1px;\n",
       "  border-radius: 16px;\n",
       "  min-width: 14px;\n",
       "  padding: 5px 16px;\n",
       "  text-align: center;\n",
       "  user-select: none;\n",
       "  margin: 0 8px;\n",
       "  -webkit-tap-highlight-color: transparent;\n",
       "}\n",
       ".carousel {\n",
       "  overflow: auto;\n",
       "  scrollbar-width: none;\n",
       "  white-space: nowrap;\n",
       "  margin-right: -12px;\n",
       "}\n",
       ".headline {\n",
       "  display: flex;\n",
       "  margin-right: 4px;\n",
       "}\n",
       ".gradient-container {\n",
       "  position: relative;\n",
       "}\n",
       ".gradient {\n",
       "  position: absolute;\n",
       "  transform: translate(3px, -9px);\n",
       "  height: 36px;\n",
       "  width: 9px;\n",
       "}\n",
       "@media (prefers-color-scheme: light) {\n",
       "  .container {\n",
       "    background-color: #fafafa;\n",
       "    box-shadow: 0 0 0 1px #0000000f;\n",
       "  }\n",
       "  .headline-label {\n",
       "    color: #1f1f1f;\n",
       "  }\n",
       "  .chip {\n",
       "    background-color: #ffffff;\n",
       "    border-color: #d2d2d2;\n",
       "    color: #5e5e5e;\n",
       "    text-decoration: none;\n",
       "  }\n",
       "  .chip:hover {\n",
       "    background-color: #f2f2f2;\n",
       "  }\n",
       "  .chip:focus {\n",
       "    background-color: #f2f2f2;\n",
       "  }\n",
       "  .chip:active {\n",
       "    background-color: #d8d8d8;\n",
       "    border-color: #b6b6b6;\n",
       "  }\n",
       "  .logo-dark {\n",
       "    display: none;\n",
       "  }\n",
       "  .gradient {\n",
       "    background: linear-gradient(90deg, #fafafa 15%, #fafafa00 100%);\n",
       "  }\n",
       "}\n",
       "@media (prefers-color-scheme: dark) {\n",
       "  .container {\n",
       "    background-color: #1f1f1f;\n",
       "    box-shadow: 0 0 0 1px #ffffff26;\n",
       "  }\n",
       "  .headline-label {\n",
       "    color: #fff;\n",
       "  }\n",
       "  .chip {\n",
       "    background-color: #2c2c2c;\n",
       "    border-color: #3c4043;\n",
       "    color: #fff;\n",
       "    text-decoration: none;\n",
       "  }\n",
       "  .chip:hover {\n",
       "    background-color: #353536;\n",
       "  }\n",
       "  .chip:focus {\n",
       "    background-color: #353536;\n",
       "  }\n",
       "  .chip:active {\n",
       "    background-color: #464849;\n",
       "    border-color: #53575b;\n",
       "  }\n",
       "  .logo-light {\n",
       "    display: none;\n",
       "  }\n",
       "  .gradient {\n",
       "    background: linear-gradient(90deg, #1f1f1f 15%, #1f1f1f00 100%);\n",
       "  }\n",
       "}\n",
       "</style>\n",
       "<div class=\"container\">\n",
       "  <div class=\"headline\">\n",
       "    <svg class=\"logo-light\" width=\"18\" height=\"18\" viewBox=\"9 9 35 35\" fill=\"none\" xmlns=\"http://www.w3.org/2000/svg\">\n",
       "      <path fill-rule=\"evenodd\" clip-rule=\"evenodd\" d=\"M42.8622 27.0064C42.8622 25.7839 42.7525 24.6084 42.5487 23.4799H26.3109V30.1568H35.5897C35.1821 32.3041 33.9596 34.1222 32.1258 35.3448V39.6864H37.7213C40.9814 36.677 42.8622 32.2571 42.8622 27.0064V27.0064Z\" fill=\"#4285F4\"/>\n",
       "      <path fill-rule=\"evenodd\" clip-rule=\"evenodd\" d=\"M26.3109 43.8555C30.9659 43.8555 34.8687 42.3195 37.7213 39.6863L32.1258 35.3447C30.5898 36.3792 28.6306 37.0061 26.3109 37.0061C21.8282 37.0061 18.0195 33.9811 16.6559 29.906H10.9194V34.3573C13.7563 39.9841 19.5712 43.8555 26.3109 43.8555V43.8555Z\" fill=\"#34A853\"/>\n",
       "      <path fill-rule=\"evenodd\" clip-rule=\"evenodd\" d=\"M16.6559 29.8904C16.3111 28.8559 16.1074 27.7588 16.1074 26.6146C16.1074 25.4704 16.3111 24.3733 16.6559 23.3388V18.8875H10.9194C9.74388 21.2072 9.06992 23.8247 9.06992 26.6146C9.06992 29.4045 9.74388 32.022 10.9194 34.3417L15.3864 30.8621L16.6559 29.8904V29.8904Z\" fill=\"#FBBC05\"/>\n",
       "      <path fill-rule=\"evenodd\" clip-rule=\"evenodd\" d=\"M26.3109 16.2386C28.85 16.2386 31.107 17.1164 32.9095 18.8091L37.8466 13.8719C34.853 11.082 30.9659 9.3736 26.3109 9.3736C19.5712 9.3736 13.7563 13.245 10.9194 18.8875L16.6559 23.3388C18.0195 19.2636 21.8282 16.2386 26.3109 16.2386V16.2386Z\" fill=\"#EA4335\"/>\n",
       "    </svg>\n",
       "    <svg class=\"logo-dark\" width=\"18\" height=\"18\" viewBox=\"0 0 48 48\" xmlns=\"http://www.w3.org/2000/svg\">\n",
       "      <circle cx=\"24\" cy=\"23\" fill=\"#FFF\" r=\"22\"/>\n",
       "      <path d=\"M33.76 34.26c2.75-2.56 4.49-6.37 4.49-11.26 0-.89-.08-1.84-.29-3H24.01v5.99h8.03c-.4 2.02-1.5 3.56-3.07 4.56v.75l3.91 2.97h.88z\" fill=\"#4285F4\"/>\n",
       "      <path d=\"M15.58 25.77A8.845 8.845 0 0 0 24 31.86c1.92 0 3.62-.46 4.97-1.31l4.79 3.71C31.14 36.7 27.65 38 24 38c-5.93 0-11.01-3.4-13.45-8.36l.17-1.01 4.06-2.85h.8z\" fill=\"#34A853\"/>\n",
       "      <path d=\"M15.59 20.21a8.864 8.864 0 0 0 0 5.58l-5.03 3.86c-.98-2-1.53-4.25-1.53-6.64 0-2.39.55-4.64 1.53-6.64l1-.22 3.81 2.98.22 1.08z\" fill=\"#FBBC05\"/>\n",
       "      <path d=\"M24 14.14c2.11 0 4.02.75 5.52 1.98l4.36-4.36C31.22 9.43 27.81 8 24 8c-5.93 0-11.01 3.4-13.45 8.36l5.03 3.85A8.86 8.86 0 0 1 24 14.14z\" fill=\"#EA4335\"/>\n",
       "    </svg>\n",
       "    <div class=\"gradient-container\"><div class=\"gradient\"></div></div>\n",
       "  </div>\n",
       "  <div class=\"carousel\">\n",
       "    <a class=\"chip\" href=\"https://vertexaisearch.cloud.google.com/grounding-api-redirect/AUZIYQFKZXsAxqeOIcTwTSUMnHOPAnLmPSlxwNiOtgUbYbfkmo01fhEcvgI-3_HQb2TH8V2xyyogiPFK0WHP353MrPdEqJ7WwvkEacVVVqxJ3QMuWchUpvVp6PyPJKhFWjxiNPS9r8vcRpiqBFeRzcmuEftNxkixShdhMYXc1DdnzAgGusKuX2SmoDzHDBDfGy1CYIQhPUtScM5UgwdSsZvjPhP3TocpDt1l_RuEKFrRAQ==\">who won skateboarding gold medals 2024 Olympics</a>\n",
       "  </div>\n",
       "</div>\n"
      ]
     },
     "metadata": {},
     "output_type": "display_data"
    },
    {
     "name": "stdout",
     "output_type": "stream",
     "text": [
      "Audio saved to ../assets/live/audio-1750287874770.wav\n",
      "Audio saved to audio-1750287874770.wav\n"
     ]
    },
    {
     "data": {
      "text/html": [
       "<audio controls><source src=\"../assets/live/audio-1750287874770.wav\" type=\"audio/wav\">Your browser does not support the audio element.</audio>"
      ]
     },
     "metadata": {},
     "output_type": "display_data"
    },
    {
     "name": "stdout",
     "output_type": "stream",
     "text": [
      "Session completed\n"
     ]
    },
    {
     "name": "stdout",
     "output_type": "stream",
     "text": [
      "Connection closed\n"
     ]
    }
   ],
   "source": [
    "await run(\"Who won the skateboarding gold medals in the 2024 olympics?\", google.Modality.AUDIO, [{ googleSearch: {} }]);\n"
   ]
  },
  {
   "attachments": {},
   "cell_type": "markdown",
   "metadata": {},
   "source": [
    "### Search with custom tools\n",
    "\n",
    "In the Multimodal Live API, the Search tool can be used in conjunction with other tools, including function calls that you provide to the model.\n",
    "\n",
    "In this example, you define a function `set_climate` that takes 2 parameters, `mode` (`hot`, `cold`, etc) and `strength` (0-10), and ask the model to set the climate control based on the live weather in the location you specify.\n"
   ]
  },
  {
   "cell_type": "code",
   "execution_count": 42,
   "metadata": {},
   "outputs": [
    {
     "name": "stdout",
     "output_type": "stream",
     "text": [
      "Connection opened\n",
      "Prompt:  Look up the weather in Paris using search and set my climate control appropriately.\n"
     ]
    },
    {
     "data": {
      "text/markdown": [
       "-------------------------------"
      ]
     },
     "metadata": {},
     "output_type": "display_data"
    },
    {
     "data": {
      "text/markdown": [
       "```python\n",
       "print(google_search.search(queries=[\"weather in Paris\", \"appropriate climate control for current Paris weather\"]))\n",
       "\n",
       "```"
      ]
     },
     "metadata": {},
     "output_type": "display_data"
    },
    {
     "data": {
      "text/markdown": [
       "-------------------------------"
      ]
     },
     "metadata": {},
     "output_type": "display_data"
    },
    {
     "data": {
      "text/markdown": [
       "-------------------------------"
      ]
     },
     "metadata": {},
     "output_type": "display_data"
    },
    {
     "data": {
      "text/markdown": [
       "```\n",
       "Looking up information on Google Search.\n",
       "\n",
       "```"
      ]
     },
     "metadata": {},
     "output_type": "display_data"
    },
    {
     "data": {
      "text/markdown": [
       "-------------------------------"
      ]
     },
     "metadata": {},
     "output_type": "display_data"
    },
    {
     "name": "stdout",
     "output_type": "stream",
     "text": [
      "Tool call: {\n",
      "  \"id\": \"function-call-8152628869044170596\",\n",
      "  \"args\": {\n",
      "    \"mode\": \"cold\",\n",
      "    \"strength\": 3\n",
      "  },\n",
      "  \"name\": \"set_climate\"\n",
      "}\n",
      "Tool call responses: [\n",
      "  {\n",
      "    \"id\": \"function-call-8152628869044170596\",\n",
      "    \"name\": \"set_climate\",\n",
      "    \"response\": {\n",
      "      \"result\": \"ok\"\n",
      "    }\n",
      "  }\n",
      "]\n",
      "Audio saved to ../assets/live/audio-1750288452152.wav\n",
      "Audio saved to audio-1750288452152.wav\n"
     ]
    },
    {
     "data": {
      "text/html": [
       "<audio controls><source src=\"../assets/live/audio-1750288452152.wav\" type=\"audio/wav\">Your browser does not support the audio element.</audio>"
      ]
     },
     "metadata": {},
     "output_type": "display_data"
    },
    {
     "name": "stdout",
     "output_type": "stream",
     "text": [
      "Session completed\n"
     ]
    },
    {
     "name": "stdout",
     "output_type": "stream",
     "text": [
      "Connection closed\n"
     ]
    }
   ],
   "source": [
    "import { FunctionDeclaration, Tool, Type } from \"@google/genai\";\n",
    "\n",
    "const set_climate: FunctionDeclaration = {\n",
    "  name: \"set_climate\",\n",
    "  description: \"Switches the local climate control equipment to the specified parameters.\",\n",
    "  parameters: {\n",
    "    type: Type.OBJECT,\n",
    "    properties: {\n",
    "      mode: {\n",
    "        type: Type.STRING,\n",
    "        description: \"Mode for the climate unit - whether to heat, cool or just blow air.\",\n",
    "        enum: [\"hot\", \"cold\", \"fan\", \"off\"],\n",
    "      },\n",
    "      strength: {\n",
    "        type: Type.NUMBER,\n",
    "        description: \"Intensity of the climate to apply, 0-10 (0 is off, 10 is MAX).\",\n",
    "        minimum: 0,\n",
    "        maximum: 10,\n",
    "      },\n",
    "    },\n",
    "    required: [\"mode\", \"strength\"],\n",
    "  },\n",
    "};\n",
    "const custom_tools: Tool[] = [{ functionDeclarations: [set_climate] }, { googleSearch: {} }];\n",
    "await run(\n",
    "  \"Look up the weather in Paris using search and set my climate control appropriately.\",\n",
    "  google.Modality.AUDIO,\n",
    "  custom_tools\n",
    ");\n"
   ]
  },
  {
   "attachments": {},
   "cell_type": "markdown",
   "metadata": {},
   "source": [
    "## Next steps\n",
    "\n",
    "- For more demos showcasing multi-tool use in the Multimodal Live API, check out the [Plotting and Mapping cookbook](h../examples/LiveAPI_plotting_and_mapping.ipynb).\n",
    "- To get started with the Live API with the JS SDK, check out the [starter guide](Get_started_LiveAPI.ipynb).\n",
    "- To learn more about tool use in the Live API, check out the [Live API Tool Use cookbook](Get_started_LiveAPI_tools.ipynb).\n",
    "\n",
    "Also check the other Gemini advanced capabilities (like [spatial understanding](Spatial_understanding.ipynb)) that you can find in the Gemini Cookbook.\n"
   ]
  }
 ],
 "metadata": {
  "kernelspec": {
   "display_name": "TypeScript",
   "language": "typescript",
   "name": "tslab"
  },
  "language_info": {
   "codemirror_mode": {
    "mode": "typescript",
    "name": "javascript",
    "typescript": true
   },
   "file_extension": ".ts",
   "mimetype": "text/typescript",
   "name": "typescript",
   "version": "3.7.2"
  },
  "orig_nbformat": 4
 },
 "nbformat": 4,
 "nbformat_minor": 2
}
