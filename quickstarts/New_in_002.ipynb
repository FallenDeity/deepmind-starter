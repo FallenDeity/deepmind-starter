{
 "cells": [
  {
   "attachments": {},
   "cell_type": "markdown",
   "metadata": {},
   "source": [
    "# What's new in Gemini-1.5-pro-002 and Gemini-1.5-flash-002\n",
    "\n",
    "This notebook explores the new options added with the 002 versions of the 1.5 series models:\n",
    "\n",
    "- Candidate count\n",
    "- Presence and frequency penalties\n",
    "- Response logprobs\n",
    "  "
   ]
  },
  {
   "attachments": {},
   "cell_type": "markdown",
   "metadata": {},
   "source": [
    "## Setup\n",
    "\n",
    "### Install the Google GenAI SDK\n",
    "\n",
    "Install the Google GenAI SDK from [npm](https://www.npmjs.com/package/@google/genai). \n",
    "\n",
    "```bash\n",
    "$ npm install @google/genai\n",
    "```"
   ]
  },
  {
   "attachments": {},
   "cell_type": "markdown",
   "metadata": {},
   "source": [
    "### Setup your API key\n",
    "\n",
    "You can [create](https://aistudio.google.com/app/apikey) your API key using Google AI Studio with a single click.\n",
    "\n",
    "Remember to treat your API key like a password. Don't accidentally save it in a notebook or source file you later commit to GitHub. In this notebook we will be storing the API key in a `.env` file. You can also set it as an environment variable or use a secret manager. \n",
    "\n",
    "Here's how to set it up in a `.env` file:\n",
    "\n",
    "```bash\n",
    "$ touch .env\n",
    "$ echo \"GEMINI_API_KEY=<YOUR_API_KEY>\" >> .env\n",
    "```\n",
    "\n",
    ":::{.callout-tip}\n",
    "\n",
    "Another option is to set the API key as an environment variable. You can do this in your terminal with the following command:\n",
    "\n",
    "```bash\n",
    "$ export GEMINI_API_KEY=\"<YOUR_API_KEY>\"\n",
    "```\n",
    ":::\n",
    "\n",
    "### Load the API key\n",
    "\n",
    "To load the API key from the `.env` file, we will use the `dotenv` package. This package loads environment variables from a `.env` file into `process.env`. \n",
    "\n",
    "```bash\n",
    "$ npm install dotenv\n",
    "```\n",
    "\n",
    "Then, we can load the API key in our code:\n"
   ]
  },
  {
   "cell_type": "code",
   "execution_count": 6,
   "metadata": {},
   "outputs": [
    {
     "name": "stdout",
     "output_type": "stream",
     "text": [
      "GEMINI_API_KEY is set in the environment variables\n"
     ]
    }
   ],
   "source": [
    "const dotenv = require(\"dotenv\") as typeof import(\"dotenv\");\n",
    "\n",
    "dotenv.config({\n",
    "  path: \"../.env\",\n",
    "});\n",
    "\n",
    "const GEMINI_API_KEY = process.env.GEMINI_API_KEY ?? \"\";\n",
    "if (!GEMINI_API_KEY) {\n",
    "  throw new Error(\"GEMINI_API_KEY is not set in the environment variables\");\n",
    "}\n",
    "console.log(\"GEMINI_API_KEY is set in the environment variables\");\n"
   ]
  },
  {
   "attachments": {},
   "cell_type": "markdown",
   "metadata": {},
   "source": [
    ":::{.callout-note}\n",
    "In our particular case the `.env` is is one directory up from the notebook, hence we need to use `../` to go up one directory. If the `.env` file is in the same directory as the notebook, you can omit it altogether. \n",
    "\n",
    "```\n",
    "\u2502\n",
    "\u251c\u2500\u2500 .env\n",
    "\u2514\u2500\u2500 quickstarts\n",
    "    \u2514\u2500\u2500 Get_started_TTS.ipynb\n",
    "```\n",
    ":::\n"
   ]
  },
  {
   "attachments": {},
   "cell_type": "markdown",
   "metadata": {},
   "source": [
    "### Initialize SDK Client\n",
    "\n",
    "With the new SDK, now you only need to initialize a client with you API key (or OAuth if using [Vertex AI](https://cloud.google.com/vertex-ai)). The model is now set in each call.\n"
   ]
  },
  {
   "cell_type": "code",
   "execution_count": 7,
   "metadata": {},
   "outputs": [],
   "source": [
    "const google = require(\"@google/genai\") as typeof import(\"@google/genai\");\n",
    "\n",
    "const ai = new google.GoogleGenAI({ apiKey: GEMINI_API_KEY });\n"
   ]
  },
  {
   "attachments": {},
   "cell_type": "markdown",
   "metadata": {},
   "source": [
    "### Select a model\n",
    "\n",
    "Check available 002 models\n"
   ]
  },
  {
   "cell_type": "code",
   "execution_count": 8,
   "metadata": {},
   "outputs": [
    {
     "name": "stdout",
     "output_type": "stream",
     "text": [
      "models/gemini-1.5-pro-002\n",
      "models/gemini-1.5-flash-002\n",
      "models/imagen-3.0-generate-002\n"
     ]
    }
   ],
   "source": [
    "const models = await ai.models.list();\n",
    "let { page } = models;\n",
    "while (page.length > 0) {\n",
    "  for (const model of page) {\n",
    "    if (model.name.includes(\"002\")) {\n",
    "      console.log(model.name);\n",
    "    }\n",
    "  }\n",
    "  page = models.hasNextPage() ? await models.nextPage() : [];\n",
    "}\n"
   ]
  },
  {
   "cell_type": "code",
   "execution_count": 9,
   "metadata": {},
   "outputs": [],
   "source": [
    "const tslab = require(\"tslab\") as typeof import(\"tslab\");\n",
    "\n",
    "const MODEL_ID = \"gemini-1.5-flash-002\";\n"
   ]
  },
  {
   "attachments": {},
   "cell_type": "markdown",
   "metadata": {},
   "source": [
    "## Quick refresher on `GenerationConfig` [Optional]\n"
   ]
  },
  {
   "cell_type": "code",
   "execution_count": 10,
   "metadata": {},
   "outputs": [
    {
     "name": "stdout",
     "output_type": "stream",
     "text": [
      "Humans don't have\n"
     ]
    }
   ],
   "source": [
    "const response = await ai.models.generateContent({\n",
    "  model: MODEL_ID,\n",
    "  contents: \"Why don't people have tails\",\n",
    "  config: {\n",
    "    temperature: 1.0,\n",
    "    maxOutputTokens: 5,\n",
    "  },\n",
    "});\n",
    "console.log(response.text);\n"
   ]
  },
  {
   "attachments": {},
   "cell_type": "markdown",
   "metadata": {},
   "source": [
    "- Each `generateContent` request is sent with a `GenerationConfig` (`chat.sendMessage` uses `generateContent`).\n",
    "- You can set the `GenerationConfig` by passing it in the arguments to `generateContent` (or `chat.sendMessage`).\n",
    "- If you're ever unsure about the parameters of `GenerationConfig` check [types.GenerationConfig](https://googleapis.github.io/js-genai/release_docs/interfaces/types.GenerationConfig.html).\n"
   ]
  },
  {
   "attachments": {},
   "cell_type": "markdown",
   "metadata": {},
   "source": [
    "## Candidate count\n",
    "\n",
    "With 002 models you can now use `candidateCount` > 1.\n"
   ]
  },
  {
   "cell_type": "code",
   "execution_count": 11,
   "metadata": {},
   "outputs": [],
   "source": [
    "const responses = await ai.models.generateContent({\n",
    "  model: MODEL_ID,\n",
    "  contents: \"Why don't people have tails\",\n",
    "  config: {\n",
    "    candidateCount: 2,\n",
    "  },\n",
    "});\n"
   ]
  },
  {
   "attachments": {},
   "cell_type": "markdown",
   "metadata": {},
   "source": [
    ":::{.callout-note}\n",
    "\n",
    "Note that the `.text` quick-accessor only works for the simple 1-candidate case, and the sdk will log a `console.warn` stating that it's only returning the first candidate. If you want to access all candidates, use the `.candidates` property instead.\n",
    "\n",
    ":::\n"
   ]
  },
  {
   "cell_type": "code",
   "execution_count": 14,
   "metadata": {},
   "outputs": [
    {
     "name": "stderr",
     "output_type": "stream",
     "text": [
      "there are multiple candidates in the response, returning text from the first one.\n"
     ]
    },
    {
     "data": {
      "text/markdown": [
       "Humans don't have tails because of evolutionary changes over millions of years.  Our ancestors did have tails, but as humans evolved and adapted to walking upright (bipedalism), the tail became less necessary and advantageous.  The genes that controlled tail development were gradually switched off or modified through a process called natural selection.  \n",
       "\n",
       "Specifically:\n",
       "\n",
       "* **Loss of function mutations:**  Random genetic mutations occurred that affected the genes responsible for tail development.  If these mutations didn't have a significant negative impact on survival and reproduction, they could be passed on to future generations.  Over time, accumulating mutations progressively reduced tail size until it became vestigial (the coccyx, or tailbone, is what remains).\n",
       "\n",
       "* **Bipedalism and its consequences:**  Walking upright changed the way our bodies functioned and the pressures of natural selection.  A tail, which is useful for balance and climbing in arboreal (tree-dwelling) animals, became less important for bipedal locomotion. The energy spent developing and maintaining a tail was likely better spent on other adaptations crucial for survival on the ground.\n",
       "\n",
       "* **Developmental changes:**  The changes in our embryonic development also contributed to the reduction of the tail.  Human embryos do initially have a tail-like structure during development, but it regresses and is largely absorbed before birth, leaving only the coccyx.\n",
       "\n",
       "In short, the lack of a tail in humans is the result of a complex interplay of genetic mutations, evolutionary pressures related to bipedalism, and changes in embryonic development.  It's an example of how natural selection can lead to the loss of features that are no longer advantageous.\n"
      ]
     },
     "metadata": {},
     "output_type": "display_data"
    }
   ],
   "source": [
    "tslab.display.markdown(responses.text ?? \"\");\n"
   ]
  },
  {
   "attachments": {},
   "cell_type": "markdown",
   "metadata": {},
   "source": [
    "With multiple candidates you have to handle the list of candidates yourself:\n"
   ]
  },
  {
   "cell_type": "code",
   "execution_count": 15,
   "metadata": {},
   "outputs": [
    {
     "data": {
      "text/markdown": [
       "Humans don't have tails because of evolutionary changes over millions of years.  Our ancestors did have tails, but as humans evolved and adapted to walking upright (bipedalism), the tail became less necessary and advantageous.  The genes that controlled tail development were gradually switched off or modified through a process called natural selection.  \n",
       "\n",
       "Specifically:\n",
       "\n",
       "* **Loss of function mutations:**  Random genetic mutations occurred that affected the genes responsible for tail development.  If these mutations didn't have a significant negative impact on survival and reproduction, they could be passed on to future generations.  Over time, accumulating mutations progressively reduced tail size until it became vestigial (the coccyx, or tailbone, is what remains).\n",
       "\n",
       "* **Bipedalism and its consequences:**  Walking upright changed the way our bodies functioned and the pressures of natural selection.  A tail, which is useful for balance and climbing in arboreal (tree-dwelling) animals, became less important for bipedal locomotion. The energy spent developing and maintaining a tail was likely better spent on other adaptations crucial for survival on the ground.\n",
       "\n",
       "* **Developmental changes:**  The changes in our embryonic development also contributed to the reduction of the tail.  Human embryos do initially have a tail-like structure during development, but it regresses and is largely absorbed before birth, leaving only the coccyx.\n",
       "\n",
       "In short, the lack of a tail in humans is the result of a complex interplay of genetic mutations, evolutionary pressures related to bipedalism, and changes in embryonic development.  It's an example of how natural selection can lead to the loss of features that are no longer advantageous.\n"
      ]
     },
     "metadata": {},
     "output_type": "display_data"
    },
    {
     "data": {
      "text/markdown": [
       "---"
      ]
     },
     "metadata": {},
     "output_type": "display_data"
    },
    {
     "data": {
      "text/markdown": [
       "Humans don't have tails primarily because of **evolutionary changes**.  Over millions of years, our primate ancestors gradually lost their tails through a process of natural selection.  While the exact reasons are complex and not fully understood, several contributing factors are likely:\n",
       "\n",
       "* **Bipedalism:**  As our ancestors transitioned to walking upright on two legs, a tail became less advantageous.  Tails are helpful for balance and locomotion in quadrupedal (four-legged) animals, but they would have been less useful and potentially even hindering for bipedal locomotion.  The energy expended maintaining a tail might have been better allocated to other adaptations.\n",
       "\n",
       "* **Changes in Genes:**  Specific genetic mutations likely played a crucial role.  These mutations affected the genes controlling tail development during embryonic growth, leading to shorter and eventually absent tails in our lineage.\n",
       "\n",
       "* **Selection Pressures:**  Natural selection favored individuals with shorter tails or no tails at all.  Those without tails might have had advantages in terms of energy efficiency, agility, or even reduced predation risk, depending on the specific environmental pressures.\n",
       "\n",
       "It's important to note that the loss of the tail wasn't a sudden event.  It occurred gradually over a long period, with intermediate forms showing progressively shorter tails.  The vestigial tailbone (coccyx) we have today is a remnant of this evolutionary process.  It's a small, fused collection of bones at the base of our spine, reflecting our tailed ancestry.\n"
      ]
     },
     "metadata": {},
     "output_type": "display_data"
    },
    {
     "data": {
      "text/markdown": [
       "---"
      ]
     },
     "metadata": {},
     "output_type": "display_data"
    }
   ],
   "source": [
    "for (const response of responses.candidates ?? []) {\n",
    "  tslab.display.markdown(response.content?.parts?.[0].text ?? \"\");\n",
    "  tslab.display.markdown(\"---\");\n",
    "}\n"
   ]
  },
  {
   "attachments": {},
   "cell_type": "markdown",
   "metadata": {},
   "source": [
    "The response contains multiple full `Candidate` objects.\n"
   ]
  },
  {
   "cell_type": "code",
   "execution_count": 16,
   "metadata": {},
   "outputs": [
    {
     "name": "stdout",
     "output_type": "stream",
     "text": [
      "{\n",
      "  \"candidates\": [\n",
      "    {\n",
      "      \"content\": {\n",
      "        \"parts\": [\n",
      "          {\n",
      "            \"text\": \"Humans don't have tails because of evolutionary changes over millions of years.  Our ancestors did have tails, but as humans evolved and adapted to walking upright (bipedalism), the tail became less necessary and advantageous.  The genes that controlled tail development were gradually switched off or modified through a process called natural selection.  \\n\\nSpecifically:\\n\\n* **Loss of function mutations:**  Random genetic mutations occurred that affected the genes responsible for tail development.  If these mutations didn't have a significant negative impact on survival and reproduction, they could be passed on to future generations.  Over time, accumulating mutations progressively reduced tail size until it became vestigial (the coccyx, or tailbone, is what remains).\\n\\n* **Bipedalism and its consequences:**  Walking upright changed the way our bodies functioned and the pressures of natural selection.  A tail, which is useful for balance and climbing in arboreal (tree-dwelling) animals, became less important for bipedal locomotion. The energy spent developing and maintaining a tail was likely better spent on other adaptations crucial for survival on the ground.\\n\\n* **Developmental changes:**  The changes in our embryonic development also contributed to the reduction of the tail.  Human embryos do initially have a tail-like structure during development, but it regresses and is largely absorbed before birth, leaving only the coccyx.\\n\\nIn short, the lack of a tail in humans is the result of a complex interplay of genetic mutations, evolutionary pressures related to bipedalism, and changes in embryonic development.  It's an example of how natural selection can lead to the loss of features that are no longer advantageous.\\n\"\n",
      "          }\n",
      "        ],\n",
      "        \"role\": \"model\"\n",
      "      },\n",
      "      \"finishReason\": \"STOP\",\n",
      "      \"avgLogprobs\": -0.3816025597708566\n",
      "    },\n",
      "    {\n",
      "      \"content\": {\n",
      "        \"parts\": [\n",
      "          {\n",
      "            \"text\": \"Humans don't have tails primarily because of **evolutionary changes**.  Over millions of years, our primate ancestors gradually lost their tails through a process of natural selection.  While the exact reasons are complex and not fully understood, several contributing factors are likely:\\n\\n* **Bipedalism:**  As our ancestors transitioned to walking upright on two legs, a tail became less advantageous.  Tails are helpful for balance and locomotion in quadrupedal (four-legged) animals, but they would have been less useful and potentially even hindering for bipedal locomotion.  The energy expended maintaining a tail might have been better allocated to other adaptations.\\n\\n* **Changes in Genes:**  Specific genetic mutations likely played a crucial role.  These mutations affected the genes controlling tail development during embryonic growth, leading to shorter and eventually absent tails in our lineage.\\n\\n* **Selection Pressures:**  Natural selection favored individuals with shorter tails or no tails at all.  Those without tails might have had advantages in terms of energy efficiency, agility, or even reduced predation risk, depending on the specific environmental pressures.\\n\\nIt's important to note that the loss of the tail wasn't a sudden event.  It occurred gradually over a long period, with intermediate forms showing progressively shorter tails.  The vestigial tailbone (coccyx) we have today is a remnant of this evolutionary process.  It's a small, fused collection of bones at the base of our spine, reflecting our tailed ancestry.\\n\"\n",
      "          }\n",
      "        ],\n",
      "        \"role\": \"model\"\n",
      "      },\n",
      "      \"finishReason\": \"STOP\",\n",
      "      \"avgLogprobs\": -0.302224858601888,\n",
      "      \"index\": 1\n",
      "    }\n",
      "  ],\n",
      "  \"modelVersion\": \"gemini-1.5-flash-002\",\n",
      "  \"usageMetadata\": {\n",
      "    \"promptTokenCount\": 7,\n",
      "    \"candidatesTokenCount\": 636,\n",
      "    \"totalTokenCount\": 643,\n",
      "    \"promptTokensDetails\": [\n",
      "      {\n",
      "        \"modality\": \"TEXT\",\n",
      "        \"tokenCount\": 7\n",
      "      }\n",
      "    ],\n",
      "    \"candidatesTokensDetails\": [\n",
      "      {\n",
      "        \"modality\": \"TEXT\",\n",
      "        \"tokenCount\": 636\n",
      "      }\n",
      "    ]\n",
      "  }\n",
      "}\n"
     ]
    }
   ],
   "source": [
    "console.log(JSON.stringify(responses, null, 2));\n"
   ]
  },
  {
   "attachments": {},
   "cell_type": "markdown",
   "metadata": {},
   "source": [
    "## Penalties\n",
    "\n",
    "The `002` models expose `penalty` arguments that let you affect the statistics of output tokens.\n",
    "\n",
    "### Presence penalty\n",
    "\n",
    "The `presencePenalty` penalizes tokens that have already been used in the output, so it induces variety in the model's output. This is detectible if you count the unique words in the output.\n",
    "\n",
    "Here's a function to run a prompt a few times and report the fraction of unique words (words don't map perfectly to tokens but it's a simple way to see the effect).\n"
   ]
  },
  {
   "cell_type": "code",
   "execution_count": 18,
   "metadata": {},
   "outputs": [],
   "source": [
    "const PROMPT = \"Tell me a story\";\n",
    "\n",
    "async function uniqueWords(penalty?: number, N = 10): Promise<number[]> {\n",
    "  const fractions: number[] = [];\n",
    "  for (let i = 0; i < N; i++) {\n",
    "    const response = await ai.models.generateContent({\n",
    "      model: MODEL_ID,\n",
    "      contents: PROMPT,\n",
    "      config: {\n",
    "        ...(penalty ? { presencePenalty: penalty } : {}),\n",
    "      },\n",
    "    });\n",
    "    const words = (response.text ?? \"\").toLowerCase().split(/\\s+/);\n",
    "    fractions.push(new Set(words).size / words.length);\n",
    "  }\n",
    "  return fractions;\n",
    "}\n",
    "\n",
    "function mean(arr: number[]): number {\n",
    "  return arr.reduce((a, b) => a + b, 0) / arr.length;\n",
    "}\n"
   ]
  },
  {
   "cell_type": "code",
   "execution_count": 19,
   "metadata": {},
   "outputs": [
    {
     "name": "stdout",
     "output_type": "stream",
     "text": [
      "[\n",
      "  0.565121412803532,\n",
      "  0.5858585858585859,\n",
      "  0.6172839506172839,\n",
      "  0.6188235294117647,\n",
      "  0.6035634743875279,\n",
      "  0.5790754257907542,\n",
      "  0.6004901960784313,\n",
      "  0.5717821782178217,\n",
      "  0.5853658536585366,\n",
      "  0.5574837310195228\n",
      "]\n"
     ]
    }
   ],
   "source": [
    "const v1 = await uniqueWords();\n",
    "console.log(JSON.stringify(v1, null, 2));\n"
   ]
  },
  {
   "cell_type": "code",
   "execution_count": 20,
   "metadata": {},
   "outputs": [
    {
     "name": "stdout",
     "output_type": "stream",
     "text": [
      "Mean unique words: 0.59\n"
     ]
    }
   ],
   "source": [
    "// baseline\n",
    "console.log(\"Mean unique words:\", mean(v1).toFixed(2));\n"
   ]
  },
  {
   "cell_type": "code",
   "execution_count": 21,
   "metadata": {},
   "outputs": [
    {
     "name": "stdout",
     "output_type": "stream",
     "text": [
      "[\n",
      "  0.5771971496437055,\n",
      "  0.5931818181818181,\n",
      "  0.5955555555555555,\n",
      "  0.6108247422680413,\n",
      "  0.5742092457420924,\n",
      "  0.59,\n",
      "  0.6296296296296297,\n",
      "  0.6077097505668935,\n",
      "  0.6077981651376146,\n",
      "  0.6103896103896104\n",
      "]\n"
     ]
    }
   ],
   "source": [
    "// the penalty encourages diversity in the oputput tokens.\n",
    "const v2 = await uniqueWords(1.999);\n",
    "console.log(JSON.stringify(v2, null, 2));\n"
   ]
  },
  {
   "cell_type": "code",
   "execution_count": 22,
   "metadata": {},
   "outputs": [
    {
     "name": "stdout",
     "output_type": "stream",
     "text": [
      "Mean unique words with penalty: 0.60\n"
     ]
    }
   ],
   "source": [
    "console.log(\"Mean unique words with penalty:\", mean(v2).toFixed(2));\n"
   ]
  },
  {
   "cell_type": "code",
   "execution_count": 23,
   "metadata": {},
   "outputs": [
    {
     "name": "stdout",
     "output_type": "stream",
     "text": [
      "[\n",
      "  0.5708061002178649,\n",
      "  0.5588235294117647,\n",
      "  0.5515695067264574,\n",
      "  0.5736263736263736,\n",
      "  0.5495867768595041,\n",
      "  0.6142506142506142,\n",
      "  0.6072289156626506,\n",
      "  0.5573770491803278,\n",
      "  0.5839080459770115,\n",
      "  0.6190476190476191\n",
      "]\n"
     ]
    }
   ],
   "source": [
    "// a negative penalty discourages diversity in the output tokens.\n",
    "const v3 = await uniqueWords(-1.999);\n",
    "console.log(JSON.stringify(v3, null, 2));\n"
   ]
  },
  {
   "cell_type": "code",
   "execution_count": 24,
   "metadata": {},
   "outputs": [
    {
     "name": "stdout",
     "output_type": "stream",
     "text": [
      "Mean unique words with negative penalty: 0.58\n"
     ]
    }
   ],
   "source": [
    "console.log(\"Mean unique words with negative penalty:\", mean(v3).toFixed(2));\n"
   ]
  },
  {
   "attachments": {},
   "cell_type": "markdown",
   "metadata": {},
   "source": [
    "The `presencePenalty` has a small effect on the vocabulary statistics.\n"
   ]
  },
  {
   "attachments": {},
   "cell_type": "markdown",
   "metadata": {},
   "source": [
    "## Frequency Penalty\n",
    "\n",
    "Frequency penalty is similar to the `presencePenalty` but the penalty is multiplied by the number of times a token is used. This effect is much stronger than the `presencePenalty`.\n",
    "\n",
    "The easiest way to see that it works is to ask the model to do something repetitive. The model has to get creative while trying to complete the task.\n"
   ]
  },
  {
   "cell_type": "code",
   "execution_count": 27,
   "metadata": {},
   "outputs": [
    {
     "name": "stdout",
     "output_type": "stream",
     "text": [
      "Cat Cat Cat Cat Cat Cat Cat Cat Cat Cat\n",
      "Cat Cat Cat Cat Cat Cat Cat Cat Ca tCat\n",
      "Cat Cat Cat Cat Cat Cat Cat Cat Cat\n",
      "Cat Cat Cat Cat Ca tCat Cat Cat Cat\n",
      "Cat Cat Cat Cat Cat Cat Cat Cat Ca tCat\n",
      "Cat Cat Cat Cat Ca tCat Cat Cata t\n",
      "\n"
     ]
    }
   ],
   "source": [
    "const frequency_response = await ai.models.generateContent({\n",
    "  model: MODEL_ID,\n",
    "  contents: `please repeat \"Cat\" 50 times, 10 per line`,\n",
    "  config: {\n",
    "    frequencyPenalty: 1.999,\n",
    "  },\n",
    "});\n",
    "console.log(frequency_response.text ?? \"\");\n"
   ]
  },
  {
   "attachments": {},
   "cell_type": "markdown",
   "metadata": {},
   "source": [
    "Since the frequency penalty accumulates with usage, it can have a much stronger effect on the output compared to the presence penalty.\n",
    "\n",
    ":::{.callout-important}\n",
    "\n",
    "Be careful with negative frequency penalties: A negative penalty makes a token more likely the more it's used. This positive feedback quickly leads the model to just repeat a common token until it hits the `maxOutputTokens` limit (once it starts the model can't produce the <STOP> token).\n",
    "\n",
    ":::\n"
   ]
  },
  {
   "cell_type": "code",
   "execution_count": 28,
   "metadata": {},
   "outputs": [
    {
     "data": {
      "text/markdown": [
       "Elara, a wisp of a girl with eyes the colour of a stormy sea, lived in a lighthouse perched precariously on the edge of the Whispering Cliffs.  Her only companion was her grandfather, a grizzled man whose weathered face held the map of a thousand storms.  He taught her the language of the sea \u2013 the mournful cry of gulls, the rhythmic crash of waves, the subtle shift in the wind that foretold a tempest.\n",
       "\n",
       "One day, a storm unlike any Elara had ever seen descended upon the coast.  The wind howled like a banshee, tearing at the lighthouse, and the waves, monstrous and frothing, crashed against the rocks below with terrifying force.  Grandpa, usually unflappable, felt a tremor of unease.  He\u2019d seen many storms, but this one felt\u2026 different.\n",
       "\n",
       "Midst the fury, a faint, rhythmic glow pulsed through the swirling mist.  Intrigued, and despite Grandpa's warnings, Elara climbed to the lantern room.  Through the driving rain, she saw it: a small, glowing boat, battling the waves with impossible grace.  It was crafted from what looked like polished sea glass, and its sail, a shimmering, opalescent membrane, billowed, defying the wind.\n",
       "\n",
       "As the boat neared, a figure, shimmering, like the boat, emerged, a woman, her,, hair like spun moonlight, her eyes like twin stars.  The woman smiled, a serene, otherworldly smile, and extended a hand, a hand that, as Elara touched it, sent a jolt of warmth through her, a feeling of profound peace.\n",
       "\n",
       "The woman spoke, her voice a whisper of the sea, \u201cThe storm, child, is not of this world. It is a tear from a fallen star.  We, the children of the tide, must mend it.\u201d\n",
       "\n",
       "Elara, without hesitation, stepped onto the luminous boat.  "
      ]
     },
     "metadata": {},
     "output_type": "display_data"
    }
   ],
   "source": [
    "const negative_frequency_response = await ai.models.generateContent({\n",
    "  model: MODEL_ID,\n",
    "  contents: PROMPT,\n",
    "  config: {\n",
    "    frequencyPenalty: -2.0,\n",
    "    maxOutputTokens: 400,\n",
    "  },\n",
    "});\n",
    "tslab.display.markdown(negative_frequency_response.text ?? \"\");\n"
   ]
  },
  {
   "cell_type": "code",
   "execution_count": 30,
   "metadata": {},
   "outputs": [
    {
     "name": "stdout",
     "output_type": "stream",
     "text": [
      "MAX_TOKENS\n"
     ]
    }
   ],
   "source": [
    "console.log(negative_frequency_response.candidates?.[0]?.finishReason);\n"
   ]
  },
  {
   "attachments": {},
   "cell_type": "markdown",
   "metadata": {},
   "source": [
    "## Next steps\n",
    "\n",
    "Check out the latest [models](https://ai.google.dev/gemini-api/docs/models) and their capabilities.\n",
    "\n"
   ]
  }
 ],
 "metadata": {
  "kernelspec": {
   "display_name": "TypeScript",
   "language": "typescript",
   "name": "tslab"
  },
  "language_info": {
   "codemirror_mode": {
    "mode": "typescript",
    "name": "javascript",
    "typescript": true
   },
   "file_extension": ".ts",
   "mimetype": "text/typescript",
   "name": "typescript",
   "version": "3.7.2"
  },
  "orig_nbformat": 4
 },
 "nbformat": 4,
 "nbformat_minor": 2
}
