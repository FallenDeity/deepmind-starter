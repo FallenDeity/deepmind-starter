{
 "cells": [
  {
   "attachments": {},
   "cell_type": "markdown",
   "metadata": {},
   "source": [
    "# Gemini API: JSON Mode Quickstart\n",
    "\n",
    "The Gemini API can be used to generate a JSON output if you set the schema that you would like to use.\n",
    "\n",
    "Two methods are available. You can either set the desired output in the prompt or supply a schema to the model separately.\n"
   ]
  },
  {
   "attachments": {},
   "cell_type": "markdown",
   "metadata": {},
   "source": [
    "## Setup\n",
    "\n",
    "### Install the Google GenAI SDK\n",
    "\n",
    "Install the Google GenAI SDK from [npm](https://www.npmjs.com/package/@google/genai). \n",
    "\n",
    "```bash\n",
    "$ npm install @google/genai\n",
    "```"
   ]
  },
  {
   "attachments": {},
   "cell_type": "markdown",
   "metadata": {},
   "source": [
    "### Setup your API key\n",
    "\n",
    "You can [create](https://aistudio.google.com/app/apikey) your API key using Google AI Studio with a single click.\n",
    "\n",
    "Remember to treat your API key like a password. Don't accidentally save it in a notebook or source file you later commit to GitHub. In this notebook we will be storing the API key in a `.env` file. You can also set it as an environment variable or use a secret manager. \n",
    "\n",
    "Here's how to set it up in a `.env` file:\n",
    "\n",
    "```bash\n",
    "$ touch .env\n",
    "$ echo \"GEMINI_API_KEY=<YOUR_API_KEY>\" >> .env\n",
    "```\n",
    "\n",
    ":::{.callout-tip}\n",
    "\n",
    "Another option is to set the API key as an environment variable. You can do this in your terminal with the following command:\n",
    "\n",
    "```bash\n",
    "$ export GEMINI_API_KEY=\"<YOUR_API_KEY>\"\n",
    "```\n",
    ":::\n",
    "\n",
    "### Load the API key\n",
    "\n",
    "To load the API key from the `.env` file, we will use the `dotenv` package. This package loads environment variables from a `.env` file into `process.env`. \n",
    "\n",
    "```bash\n",
    "$ npm install dotenv\n",
    "```\n",
    "\n",
    "Then, we can load the API key in our code:\n"
   ]
  },
  {
   "cell_type": "code",
   "execution_count": 1,
   "metadata": {},
   "outputs": [
    {
     "name": "stdout",
     "output_type": "stream",
     "text": [
      "GEMINI_API_KEY is set in the environment variables\n"
     ]
    }
   ],
   "source": [
    "const dotenv = require(\"dotenv\") as typeof import(\"dotenv\");\n",
    "\n",
    "dotenv.config({\n",
    "  path: \"../.env\",\n",
    "});\n",
    "\n",
    "const GEMINI_API_KEY = process.env.GEMINI_API_KEY ?? \"\";\n",
    "if (!GEMINI_API_KEY) {\n",
    "  throw new Error(\"GEMINI_API_KEY is not set in the environment variables\");\n",
    "}\n",
    "console.log(\"GEMINI_API_KEY is set in the environment variables\");\n"
   ]
  },
  {
   "attachments": {},
   "cell_type": "markdown",
   "metadata": {},
   "source": [
    ":::{.callout-note}\n",
    "In our particular case the `.env` is is one directory up from the notebook, hence we need to use `../` to go up one directory. If the `.env` file is in the same directory as the notebook, you can omit it altogether. \n",
    "\n",
    "```\n",
    "│\n",
    "├── .env\n",
    "└── quickstarts\n",
    "    └── JSON_mode.ipynb\n",
    "```\n",
    ":::\n"
   ]
  },
  {
   "attachments": {},
   "cell_type": "markdown",
   "metadata": {},
   "source": [
    "### Initialize SDK Client\n",
    "\n",
    "With the new SDK, now you only need to initialize a client with you API key (or OAuth if using [Vertex AI](https://cloud.google.com/vertex-ai)). The model is now set in each call.\n"
   ]
  },
  {
   "cell_type": "code",
   "execution_count": 2,
   "metadata": {},
   "outputs": [],
   "source": [
    "const google = require(\"@google/genai\") as typeof import(\"@google/genai\");\n",
    "\n",
    "const ai = new google.GoogleGenAI({ apiKey: GEMINI_API_KEY });\n"
   ]
  },
  {
   "attachments": {},
   "cell_type": "markdown",
   "metadata": {},
   "source": [
    "### Select a model\n",
    "\n",
    "Now select the model you want to use in this guide, either by selecting one in the list or writing it down. Keep in mind that some models, like the 2.5 ones are thinking models and thus take slightly more time to respond (cf. [thinking notebook](Get_started_thinking.ipynb) for more details and in particular learn how to switch the thiking off).\n"
   ]
  },
  {
   "cell_type": "code",
   "execution_count": 3,
   "metadata": {},
   "outputs": [],
   "source": [
    "const tslab = require(\"tslab\") as typeof import(\"tslab\");\n",
    "\n",
    "const MODEL_ID = \"gemini-2.5-flash-preview-05-20\";\n"
   ]
  },
  {
   "attachments": {},
   "cell_type": "markdown",
   "metadata": {},
   "source": [
    "## Set your constrained output in the prompt\n",
    "\n",
    "For this first example just describe the schema you want back in the prompt:\n"
   ]
  },
  {
   "cell_type": "code",
   "execution_count": 4,
   "metadata": {},
   "outputs": [],
   "source": [
    "const json_prompt = `\n",
    "  List a few popular cookie recipes using this JSON schema:\n",
    "\n",
    "  Recipe = {'recipe_name': str}\n",
    "  Return: list[Recipe]\n",
    "`;\n"
   ]
  },
  {
   "attachments": {},
   "cell_type": "markdown",
   "metadata": {},
   "source": [
    "Then activate JSON mode by specifying `resposeMimeType` in the config parameter:\n"
   ]
  },
  {
   "cell_type": "code",
   "execution_count": 10,
   "metadata": {},
   "outputs": [
    {
     "name": "stdout",
     "output_type": "stream",
     "text": [
      "JSON Response\n",
      "[\n",
      "  { recipe_name: 'Chocolate Chip Cookies' },\n",
      "  { recipe_name: 'Oatmeal Raisin Cookies' },\n",
      "  { recipe_name: 'Peanut Butter Cookies' },\n",
      "  { recipe_name: 'Sugar Cookies' },\n",
      "  { recipe_name: 'Snickerdoodles' }\n",
      "]\n"
     ]
    }
   ],
   "source": [
    "const json_prompt_response = await ai.models.generateContent({\n",
    "  model: MODEL_ID,\n",
    "  contents: json_prompt,\n",
    "  config: {\n",
    "    responseMimeType: \"application/json\",\n",
    "  },\n",
    "});\n",
    "// Parse the JSON response\n",
    "console.log(\"JSON Response\");\n",
    "console.log(JSON.parse(json_prompt_response.text!));\n"
   ]
  },
  {
   "attachments": {},
   "cell_type": "markdown",
   "metadata": {},
   "source": [
    "## Supply the schema to the model directly\n",
    "\n",
    "The newest models (1.5 and beyond) allow you to pass a `Schema` object directly and the output will strictly follow that schema.\n",
    "\n",
    "Following the same example as the previous section, here's that recipe type:\n"
   ]
  },
  {
   "cell_type": "code",
   "execution_count": 9,
   "metadata": {},
   "outputs": [
    {
     "name": "stdout",
     "output_type": "stream",
     "text": [
      "JSON Schema Response\n",
      "[\n",
      "  {\n",
      "    recipeDescription: 'A celestial delight, these cookies shimmer with edible glitter and a hint of lavender, promising an otherworldly experience with every ethereal bite.',\n",
      "    recipeIngredients: [\n",
      "      'All-purpose flour',\n",
      "      'Unsalted butter',\n",
      "      'Granulated sugar',\n",
      "      'Edible glitter',\n",
      "      'Culinary lavender',\n",
      "      'Eggs'\n",
      "    ],\n",
      "    recipeName: 'Stardust Serenade Cookies'\n",
      "  },\n",
      "  {\n",
      "    recipeDescription: 'Indulge in the opulent depth of these intensely dark chocolate cookies, encasing a molten truffle heart that melts sensuously on the palate.',\n",
      "    recipeIngredients: [\n",
      "      'Dark cocoa powder',\n",
      "      'Unsalted butter',\n",
      "      'Brown sugar',\n",
      "      'Granulated sugar',\n",
      "      'Chocolate truffles',\n",
      "      'Sea salt'\n",
      "    ],\n",
      "    recipeName: 'Velvet Midnight Truffle Cookies'\n",
      "  },\n",
      "  {\n",
      "    recipeDescription: 'These exquisite biscuits offer a harmonious blend of warm spices and tart dried cranberries, evoking a vibrant tapestry of autumnal flavors.',\n",
      "    recipeIngredients: [\n",
      "      'All-purpose flour',\n",
      "      'Unsalted butter',\n",
      "      'Brown sugar',\n",
      "      'Cinnamon',\n",
      "      'Dried cranberries',\n",
      "      'Orange zest'\n",
      "    ],\n",
      "    recipeName: 'Spiced Ruby Blossom Biscuits'\n",
      "  }\n",
      "]\n"
     ]
    }
   ],
   "source": [
    "import { Schema, Type } from \"@google/genai\";\n",
    "\n",
    "const recipeSchema: Schema = {\n",
    "  type: Type.OBJECT,\n",
    "  description: \"A recipe object\",\n",
    "  properties: {\n",
    "    recipeName: {\n",
    "      type: Type.STRING,\n",
    "      description: \"The name of the recipe\",\n",
    "    },\n",
    "    recipeDescription: {\n",
    "      type: Type.STRING,\n",
    "      description: \"A brief description of the recipe\",\n",
    "    },\n",
    "    recipeIngredients: {\n",
    "      type: Type.ARRAY,\n",
    "      description: \"A list of ingredients for the recipe\",\n",
    "      items: {\n",
    "        type: Type.STRING,\n",
    "        description: \"An ingredient for the recipe\",\n",
    "      },\n",
    "    },\n",
    "  },\n",
    "  required: [\"recipeName\", \"recipeDescription\", \"recipeIngredients\"],\n",
    "};\n",
    "\n",
    "const listRecipesSchema: Schema = {\n",
    "  type: Type.ARRAY,\n",
    "  description: \"A list of recipes\",\n",
    "  items: recipeSchema,\n",
    "};\n",
    "\n",
    "const json_schema_response = await ai.models.generateContent({\n",
    "  model: MODEL_ID,\n",
    "  contents:\n",
    "    \"List a few imaginative cookie recipes along with a one-sentence description as if you were a gourmet restaurant and their main ingredients\",\n",
    "  config: {\n",
    "    responseMimeType: \"application/json\",\n",
    "    responseSchema: listRecipesSchema,\n",
    "  },\n",
    "});\n",
    "console.log(\"JSON Schema Response\");\n",
    "console.log(JSON.parse(json_schema_response.text!));\n"
   ]
  },
  {
   "attachments": {},
   "cell_type": "markdown",
   "metadata": {},
   "source": [
    "## Next Steps\n",
    "### Useful API references:\n",
    "\n",
    "Check the [structured ouput](https://ai.google.dev/gemini-api/docs/structured-output) documentation or the [`GenerationConfig`](https://ai.google.dev/api/generate-content#generationconfig) API reference for more details\n",
    "\n",
    "### Related examples\n",
    "\n",
    "* The constrained output is used in the [Text summarization](../examples/json_capabilities/Text_Summarization.ipynb) example to provide the model a format to summarize a story (genre, characters, etc...)\n",
    "* The [Object detection](../examples/Object_detection.ipynb) examples are using the JSON constrained output to uniiformize the output of the detection.\n",
    "\n",
    "### Continue your discovery of the Gemini API\n",
    "\n",
    "JSON is not the only way to constrain the output of the model, you can also use an [Enum](Enum.ipynb), [Function calling](Function_calling.ipynb) and [Code execution](Code_Execution.ipynb) are other ways to enhance your model by either using your own functions or by letting the model write and run them.\n"
   ]
  }
 ],
 "metadata": {
  "kernelspec": {
   "display_name": "TypeScript",
   "language": "typescript",
   "name": "tslab"
  },
  "language_info": {
   "codemirror_mode": {
    "mode": "typescript",
    "name": "javascript",
    "typescript": true
   },
   "file_extension": ".ts",
   "mimetype": "text/typescript",
   "name": "typescript",
   "version": "3.7.2"
  },
  "orig_nbformat": 4
 },
 "nbformat": 4,
 "nbformat_minor": 2
}
