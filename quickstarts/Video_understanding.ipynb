{
 "cells": [
  {
   "attachments": {},
   "cell_type": "markdown",
   "metadata": {},
   "source": [
    "# Video understanding with Gemini\n",
    "\n",
    "Gemini has from the begining been a multimodal model, capable of analyzing all sorts of medias using its [long context window](https://developers.googleblog.com/en/new-features-for-the-gemini-api-and-google-ai-studio/).\n",
    "\n",
    "[Gemini models](https://aistudio.google.com/starter-apps/video) bring video analysis to a whole new level as illustrated in [this video](https://www.youtube.com/watch?v=Mot-JEU26GQ).\n",
    "\n",
    "This notebook will show you how to easily use Gemini to perform the same kind of video analysis. You can also check the [live demo](https://aistudio.google.com/starter-apps/video) and try it on your own videos on [AI Studio](https://aistudio.google.com/starter-apps/video).\n"
   ]
  },
  {
   "attachments": {},
   "cell_type": "markdown",
   "metadata": {},
   "source": [
    "## Setup\n",
    "\n",
    "### Install the Google GenAI SDK\n",
    "\n",
    "Install the Google GenAI SDK from [npm](https://www.npmjs.com/package/@google/genai). \n",
    "\n",
    "```bash\n",
    "$ npm install @google/genai\n",
    "```"
   ]
  },
  {
   "attachments": {},
   "cell_type": "markdown",
   "metadata": {},
   "source": [
    "### Setup your API key\n",
    "\n",
    "You can [create](https://aistudio.google.com/app/apikey) your API key using Google AI Studio with a single click.\n",
    "\n",
    "Remember to treat your API key like a password. Don't accidentally save it in a notebook or source file you later commit to GitHub. In this notebook we will be storing the API key in a `.env` file. You can also set it as an environment variable or use a secret manager. \n",
    "\n",
    "Here's how to set it up in a `.env` file:\n",
    "\n",
    "```bash\n",
    "$ touch .env\n",
    "$ echo \"GEMINI_API_KEY=<YOUR_API_KEY>\" >> .env\n",
    "```\n",
    "\n",
    ":::{.callout-tip}\n",
    "\n",
    "Another option is to set the API key as an environment variable. You can do this in your terminal with the following command:\n",
    "\n",
    "```bash\n",
    "$ export GEMINI_API_KEY=\"<YOUR_API_KEY>\"\n",
    "```\n",
    ":::\n",
    "\n",
    "### Load the API key\n",
    "\n",
    "To load the API key from the `.env` file, we will use the `dotenv` package. This package loads environment variables from a `.env` file into `process.env`. \n",
    "\n",
    "```bash\n",
    "$ npm install dotenv\n",
    "```\n",
    "\n",
    "Then, we can load the API key in our code:\n"
   ]
  },
  {
   "cell_type": "code",
   "execution_count": 2,
   "metadata": {},
   "outputs": [
    {
     "name": "stdout",
     "output_type": "stream",
     "text": [
      "GEMINI_API_KEY is set in the environment variables\n"
     ]
    }
   ],
   "source": [
    "const dotenv = require(\"dotenv\") as typeof import(\"dotenv\");\n",
    "\n",
    "dotenv.config({\n",
    "  path: \"../.env\",\n",
    "});\n",
    "\n",
    "const GEMINI_API_KEY = process.env.GEMINI_API_KEY ?? \"\";\n",
    "if (!GEMINI_API_KEY) {\n",
    "  throw new Error(\"GEMINI_API_KEY is not set in the environment variables\");\n",
    "}\n",
    "console.log(\"GEMINI_API_KEY is set in the environment variables\");\n"
   ]
  },
  {
   "attachments": {},
   "cell_type": "markdown",
   "metadata": {},
   "source": [
    ":::{.callout-note}\n",
    "In our particular case the `.env` is is one directory up from the notebook, hence we need to use `../` to go up one directory. If the `.env` file is in the same directory as the notebook, you can omit it altogether. \n",
    "\n",
    "```\n",
    "\u2502\n",
    "\u251c\u2500\u2500 .env\n",
    "\u2514\u2500\u2500 quickstarts\n",
    "    \u2514\u2500\u2500 Video_understanding.ipynb\n",
    "```\n",
    ":::\n"
   ]
  },
  {
   "attachments": {},
   "cell_type": "markdown",
   "metadata": {},
   "source": [
    "### Initialize SDK Client\n",
    "\n",
    "With the new SDK, now you only need to initialize a client with you API key (or OAuth if using [Vertex AI](https://cloud.google.com/vertex-ai)). The model is now set in each call.\n"
   ]
  },
  {
   "cell_type": "code",
   "execution_count": 3,
   "metadata": {},
   "outputs": [],
   "source": [
    "const google = require(\"@google/genai\") as typeof import(\"@google/genai\");\n",
    "\n",
    "const ai = new google.GoogleGenAI({ apiKey: GEMINI_API_KEY });\n"
   ]
  },
  {
   "attachments": {},
   "cell_type": "markdown",
   "metadata": {},
   "source": [
    "### Select a model\n",
    "\n",
    "Now select the model you want to use in this guide, either by selecting one in the list or writing it down. Keep in mind that some models, like the 2.5 ones are thinking models and thus take slightly more time to respond (cf. [thinking notebook](quickstarts/Get_started_thinking.ipynb) for more details and in particular learn how to switch the thiking off). \n",
    "\n",
    "Video understanding works best with Gemini 2.5 models. You can also select former models to compare their behavior but it is recommended to use at least the 2.0 ones.\n",
    "\n"
   ]
  },
  {
   "cell_type": "code",
   "execution_count": 4,
   "metadata": {},
   "outputs": [],
   "source": [
    "const tslab = require(\"tslab\") as typeof import(\"tslab\");\n",
    "\n",
    "const MODEL_ID = \"gemini-2.5-flash-preview-05-20\";\n"
   ]
  },
  {
   "attachments": {},
   "cell_type": "markdown",
   "metadata": {},
   "source": [
    "## Get sample videos\n",
    "\n",
    "You will start with uploaded videos, as it's a more common use-case, but you will also see later that you can also use Youtube videos.\n"
   ]
  },
  {
   "cell_type": "code",
   "execution_count": 1,
   "metadata": {},
   "outputs": [
    {
     "name": "stdout",
     "output_type": "stream",
     "text": [
      "Downloading Pottery.mp4...\n",
      "Downloading Trailcam.mp4...\n",
      "Downloading Post_its.mp4...\n",
      "Downloading User_study.mp4...\n"
     ]
    }
   ],
   "source": [
    "const fs = require(\"fs\") as typeof import(\"fs\");\n",
    "const path = require(\"path\") as typeof import(\"path\");\n",
    "\n",
    "const downloadFile = async (url: string, filePath: string) => {\n",
    "  const response = await fetch(url);\n",
    "  if (!response.ok) {\n",
    "    throw new Error(`Failed to download file: ${response.statusText}`);\n",
    "  }\n",
    "  const buffer = await response.blob();\n",
    "  const bufferData = Buffer.from(await buffer.arrayBuffer());\n",
    "  fs.writeFileSync(filePath, bufferData);\n",
    "};\n",
    "\n",
    "const videoDir = path.join(\"../assets\", \"video_understanding\");\n",
    "fs.mkdirSync(videoDir, { recursive: true });\n",
    "\n",
    "const videoMapping = {\n",
    "  \"Pottery.mp4\": \"https://storage.googleapis.com/generativeai-downloads/videos/Pottery.mp4\",\n",
    "  \"Trailcam.mp4\": \"https://storage.googleapis.com/generativeai-downloads/videos/Jukin_Trailcam_Videounderstanding.mp4\",\n",
    "  \"Post_its.mp4\": \"https://storage.googleapis.com/generativeai-downloads/videos/post_its.mp4\",\n",
    "  \"User_study.mp4\": \"https://storage.googleapis.com/generativeai-downloads/videos/user_study.mp4\",\n",
    "};\n",
    "for (const [fileName, url] of Object.entries(videoMapping)) {\n",
    "  const filePath = path.join(videoDir, fileName);\n",
    "  if (!fs.existsSync(filePath)) {\n",
    "    console.log(`Downloading ${fileName}...`);\n",
    "    await downloadFile(url, filePath);\n",
    "  } else {\n",
    "    console.log(`${fileName} already exists, skipping download.`);\n",
    "  }\n",
    "}\n"
   ]
  },
  {
   "attachments": {},
   "cell_type": "markdown",
   "metadata": {},
   "source": [
    "## Upload the videos\n",
    "\n",
    "Upload all the videos using the File API. You can find modre details about how to use it in the [Get Started](Get_started.ipynb) notebook.\n",
    "\n",
    "This can take a couple of minutes as the videos will need to be processed and tokenized.\n"
   ]
  },
  {
   "cell_type": "code",
   "execution_count": 9,
   "metadata": {},
   "outputs": [],
   "source": [
    "import { File, FileState } from \"@google/genai\";\n",
    "\n",
    "async function deferredFileUpload(filePath: string, config: { displayName: string }): Promise<File> {\n",
    "  const file = await ai.files.upload({\n",
    "    file: filePath,\n",
    "    config,\n",
    "  });\n",
    "  let getFile = await ai.files.get({ name: file.name ?? \"\" });\n",
    "  while (getFile.state === FileState.PROCESSING) {\n",
    "    getFile = await ai.files.get({ name: file.name ?? \"\" });\n",
    "    console.log(`current file status (${getFile.displayName}): ${getFile.state ?? \"unknown\"}`);\n",
    "    console.log(\"File is still processing, retrying in 5 seconds\");\n",
    "\n",
    "    await new Promise((resolve) => {\n",
    "      setTimeout(resolve, 5000);\n",
    "    });\n",
    "  }\n",
    "  if (file.state === FileState.FAILED) {\n",
    "    throw new Error(\"File processing failed.\");\n",
    "  }\n",
    "  return file;\n",
    "}\n"
   ]
  },
  {
   "cell_type": "code",
   "execution_count": 10,
   "metadata": {},
   "outputs": [
    {
     "name": "stdout",
     "output_type": "stream",
     "text": [
      "current file status (Pottery Video): PROCESSING\n",
      "File is still processing, retrying in 5 seconds\n",
      "current file status (Post-its Video): PROCESSING\n",
      "File is still processing, retrying in 5 seconds\n",
      "current file status (Pottery Video): ACTIVE\n",
      "File is still processing, retrying in 5 seconds\n",
      "current file status (Post-its Video): ACTIVE\n",
      "File is still processing, retrying in 5 seconds\n",
      "current file status (User Study Video): PROCESSING\n",
      "File is still processing, retrying in 5 seconds\n",
      "current file status (Trailcam Video): PROCESSING\n",
      "File is still processing, retrying in 5 seconds\n",
      "current file status (User Study Video): ACTIVE\n",
      "File is still processing, retrying in 5 seconds\n",
      "current file status (Trailcam Video): PROCESSING\n",
      "File is still processing, retrying in 5 seconds\n",
      "current file status (Trailcam Video): PROCESSING\n",
      "File is still processing, retrying in 5 seconds\n",
      "current file status (Trailcam Video): ACTIVE\n",
      "File is still processing, retrying in 5 seconds\n",
      "current file status (Post-its Video): PROCESSING\n",
      "File is still processing, retrying in 5 seconds\n",
      "current file status (Post-its Video): ACTIVE\n",
      "File is still processing, retrying in 5 seconds\n",
      "current file status (User Study Video): PROCESSING\n",
      "File is still processing, retrying in 5 seconds\n",
      "current file status (User Study Video): ACTIVE\n",
      "File is still processing, retrying in 5 seconds\n"
     ]
    }
   ],
   "source": [
    "const pottery_video = await deferredFileUpload(path.join(videoDir, \"Pottery.mp4\"), { displayName: \"Pottery Video\" });\n",
    "const trailcam_video = await deferredFileUpload(path.join(videoDir, \"Trailcam.mp4\"), { displayName: \"Trailcam Video\" });\n",
    "const post_its_video = await deferredFileUpload(path.join(videoDir, \"Post_its.mp4\"), { displayName: \"Post-its Video\" });\n",
    "const user_study_video = await deferredFileUpload(path.join(videoDir, \"User_study.mp4\"), {\n",
    "  displayName: \"User Study Video\",\n",
    "});\n"
   ]
  },
  {
   "attachments": {},
   "cell_type": "markdown",
   "metadata": {},
   "source": [
    "## Search within videos\n",
    "\n",
    "First, try using the model to search within your videos and describe all the animal sightings in the trailcam video.\n"
   ]
  },
  {
   "cell_type": "code",
   "execution_count": 11,
   "metadata": {},
   "outputs": [
    {
     "data": {
      "text/markdown": [
       "```json\n",
       "[\n",
       " {\n",
       "  \"timecode\": \"00:00\",\n",
       "  \"caption\": \"A fox's head comes into frame, looking around, then walks off-screen. Another fox quickly enters the frame from the right, walks to the left, and then disappears. A third fox enters from the right, walks to the left, and then disappears. The second fox comes into frame from the bottom right, walks forward, then stops to look at the other foxes. The first fox walks on the top of the rocks, then disappears off-screen. The second and third foxes walk into the middle of the frame and then disappear off-screen. (audio: sounds of birds, animals, and clicks)\"\n",
       " },\n",
       " {\n",
       "  \"timecode\": \"00:17\",\n",
       "  \"caption\": \"A mountain lion is walking slowly, sniffing the ground. The mountain lion then stops and looks around, then continues walking, sniffing the ground and then disappears off-screen. (audio: sounds of animals and clicks)\"\n",
       " },\n",
       " {\n",
       "  \"timecode\": \"00:35\",\n",
       "  \"caption\": \"Two foxes are walking in the forest at night, both looking at something on the ground. The fox on the left starts to roll around and appears to be playing with something on the ground, then stands up. The other fox starts to approach the fox on the left, then they both start chasing each other around. The fox on the right chases the fox on the left off-screen, then the fox on the left chases the fox on the right off-screen. (audio: sounds of animals and clicks)\"\n",
       " },\n",
       " {\n",
       "  \"timecode\": \"00:50\",\n",
       "  \"caption\": \"A camera flashes, revealing two foxes, one on the right and one on the left. The fox on the left is lying on the ground, then the fox on the right quickly runs towards it and off-screen. (audio: sounds of animals and clicks)\"\n",
       " },\n",
       " {\n",
       "  \"timecode\": \"01:05\",\n",
       "  \"caption\": \"A mountain lion's back is to the camera, looking around. It then jumps and disappears off-screen. (audio: sounds of animals and clicks)\"\n",
       " },\n",
       " {\n",
       "  \"timecode\": \"01:18\",\n",
       "  \"caption\": \"Two mountain lions are walking in the forest. The mountain lion in the foreground turns its head to the camera, then walks towards the camera and off-screen. The mountain lion in the background walks to the right and then disappears off-screen. (audio: sounds of animals and clicks)\"\n",
       " },\n",
       " {\n",
       "  \"timecode\": \"01:29\",\n",
       "  \"caption\": \"A bobcat is looking at something on the ground in the forest, then quickly looks up and around, then back to the ground. The bobcat then lies down, rolls around, and then stands back up and looks to the left. The bobcat then walks away. (audio: sounds of animals and clicks)\"\n",
       " },\n",
       " {\n",
       "  \"timecode\": \"01:51\",\n",
       "  \"caption\": \"A bear walks from the right side of the screen to the left. (audio: sounds of birds and clicks)\"\n",
       " },\n",
       " {\n",
       "  \"timecode\": \"01:57\",\n",
       "  \"caption\": \"A mountain lion runs from the left to the right side of the screen. (audio: sounds of birds and clicks)\"\n",
       " },\n",
       " {\n",
       "  \"timecode\": \"02:05\",\n",
       "  \"caption\": \"A black bear walks from the left to the right side of the screen. (audio: sounds of animals and clicks)\"\n",
       " },\n",
       " {\n",
       "  \"timecode\": \"02:12\",\n",
       "  \"caption\": \"A cub walks into the frame from the right side of the screen, followed by its mother. They both begin to sniff the ground and walk to the left. (audio: sounds of animals and clicks)\"\n",
       " },\n",
       " {\n",
       "  \"timecode\": \"02:23\",\n",
       "  \"caption\": \"A fox is walking along a rocky cliff at night. The fox stops to look down at the city lights, then starts to eat something off the ground. The fox then looks up at the city lights. (audio: sounds of birds and clicks)\"\n",
       " },\n",
       " {\n",
       "  \"timecode\": \"02:35\",\n",
       "  \"caption\": \"A bear is walking along a rocky cliff at night, then walks off-screen. (audio: sounds of birds and clicks)\"\n",
       " },\n",
       " {\n",
       "  \"timecode\": \"02:42\",\n",
       "  \"caption\": \"A mountain lion is walking along a rocky cliff at night, then walks off-screen. (audio: sounds of birds and clicks)\"\n",
       " },\n",
       " {\n",
       "  \"timecode\": \"02:47\",\n",
       "  \"caption\": \"A mountain lion is walking along a rocky cliff at night, then walks off-screen. (audio: sounds of birds and clicks)\"\n",
       " },\n",
       " {\n",
       "  \"timecode\": \"02:52\",\n",
       "  \"caption\": \"A mountain lion is walking in the forest at night, then stops to look at something under a tree. It then walks further under the tree and disappears off-screen. (audio: sounds of animals and clicks)\"\n",
       " },\n",
       " {\n",
       "  \"timecode\": \"03:05\",\n",
       "  \"caption\": \"A black bear is walking in the forest, then stops and starts to bite at its front leg. The bear walks forward. (audio: sounds of animals and clicks)\"\n",
       " },\n",
       " {\n",
       "  \"timecode\": \"03:22\",\n",
       "  \"caption\": \"A bear cub walks into the frame, starts to bite at its leg, then another bear cub walks in behind it. They both stop and look around, then start to walk. The second bear cub sits down, scratches its back, then the first bear cub walks towards it and then off-screen. The second bear cub then follows the first one. (audio: sounds of animals and clicks)\"\n",
       " },\n",
       " {\n",
       "  \"timecode\": \"04:22\",\n",
       "  \"caption\": \"A bobcat walks from the right side of the screen and into the center. It then looks at the camera, then away. It then walks off-screen. (audio: sounds of clicks)\"\n",
       " },\n",
       " {\n",
       "  \"timecode\": \"04:30\",\n",
       "  \"caption\": \"A bobcat walks from the left side of the screen and into the center. It then looks at the camera, then away. It then walks off-screen. (audio: sounds of clicks)\"\n",
       " },\n",
       " {\n",
       "  \"timecode\": \"04:50\",\n",
       "  \"caption\": \"A bobcat walks from the left side of the screen and into the center. It then looks away, then walks off-screen. (audio: sounds of clicks)\"\n",
       " },\n",
       " {\n",
       "  \"timecode\": \"04:57\",\n",
       "  \"caption\": \"A mountain lion is walking from the left and into the center. It then looks at the camera, then walks from the left to the right. (audio: sounds of animals and clicks)\"\n",
       " }\n",
       "]\n",
       "```"
      ]
     },
     "metadata": {},
     "output_type": "display_data"
    }
   ],
   "source": [
    "const trailcam_video_analysis = await ai.models.generateContent({\n",
    "  model: MODEL_ID,\n",
    "  contents: [\n",
    "    \"For each scene in this video, generate captions that describe the scene along with any spoken text placed in quotation marks. Place each caption into an object with the timecode of the caption in the video.\",\n",
    "    google.createPartFromUri(trailcam_video.uri ?? \"\", trailcam_video.mimeType ?? \"\"),\n",
    "  ],\n",
    "});\n",
    "tslab.display.markdown(trailcam_video_analysis.text ?? \"\");\n"
   ]
  },
  {
   "attachments": {},
   "cell_type": "markdown",
   "metadata": {},
   "source": [
    "The prompt used is quite a generic one, but you can get even better results if you cutomize it to your needs (like asking specifically for foxes).\n",
    "\n",
    "The [live demo on AI Studio](https://aistudio.google.com/starter-apps/video) shows how you can postprocess this output to jump directly to the the specific part of the video by clicking on the timecodes. If you are interested, you can check the [code of that demo on Github](https://github.com/google-gemini/starter-applets/tree/main/video).\n"
   ]
  },
  {
   "attachments": {},
   "cell_type": "markdown",
   "metadata": {},
   "source": [
    "## Extract and organize text\n",
    "\n",
    "Gemini models can also read what's in the video and extract it in an organized way. You can even use Gemini reasoning capabilities to generate new ideas for you.\n"
   ]
  },
  {
   "cell_type": "code",
   "execution_count": 12,
   "metadata": {},
   "outputs": [
    {
     "data": {
      "text/markdown": [
       "Okay, I've transcribed and organized the sticky notes into a table based on apparent themes.\n",
       "\n",
       "**Brainstorm: Project Name**\n",
       "\n",
       "| Astronomy/Space       | Mythology/Legend   | Science/Mathematics | Other                  |\n",
       "| :-------------------- | :----------------- | :------------------ | :--------------------- |\n",
       "| Andromeda's Reach     | Aether             | Bayes Theorem       | Convergence            |\n",
       "| Canis Major           | Athena             | Chaos Field         | Orion's Sword          |\n",
       "| Celestial Drift       | Athena's Eye       | Chaos Theory        |                        |\n",
       "| Centaurus             | Cerberus           | Equilibrium         |                        |\n",
       "| Comets Tail           | Chimera Dream      | Euler's Path        |                        |\n",
       "| Delphinus             | Echo               | Fractal             |                        |\n",
       "| Draco                 | Hera               | Golden Ratio        |                        |\n",
       "| Galactic Core         | Medusa             | Infinity Loop       |                        |\n",
       "| Leo Minor             | Odin               | Riemann's Hypothesis |                        |\n",
       "| Lunar Eclipse         | Pandora's Box      | Stokes Theorem      |                        |\n",
       "| Lyra                  | Perseus Shield     | Symmetry            |                        |\n",
       "| Lynx                  | Phoenix            | Taylor Series       |                        |\n",
       "| Orion's Belt          | Prometheus Rising  | Vector              |                        |\n",
       "| Sagitta               | Titan              |                     |                        |\n",
       "| Serpens               | Zephyr             |                     |                        |\n",
       "| Stellar Nexus         |                    |                     |                        |\n",
       "| Supernova Echo        |                    |                     |                        |\n",
       "\n",
       "---\n",
       "\n",
       "**A Few More Ideas (following similar themes):**\n",
       "\n",
       "1.  **Astronomy/Space:**\n",
       "    *   **Nebula Prime:** Combines a celestial body with a sense of origin or importance.\n",
       "    *   **Event Horizon:** Suggests a point of no return, a boundary, or a pivotal moment.\n",
       "    *   **Cosmic Anomaly:** Implies uniqueness, discovery, or something out of the ordinary.\n",
       "\n",
       "2.  **Mythology/Legend:**\n",
       "    *   **Ares Ascent:** Implies power, rising to a challenge, or a new beginning.\n",
       "    *   **Midas Core:** Suggests a central element that transforms or creates value.\n",
       "    *   **Valhalla Gateway:** Evokes a grand, important entry point or destination.\n",
       "\n",
       "3.  **Science/Mathematics Concepts:**\n",
       "    *   **Quantum Leap:** Denotes a significant, sudden advancement or change.\n",
       "    *   **Paradox Engine:** Suggests a powerful system that resolves complex problems or defies expectations.\n",
       "    *   **Fibonacci Sequence:** Implies growth, natural patterns, and interconnectedness.\n",
       "\n",
       "4.  **General/Abstract:**\n",
       "    *   **Apex Protocol:** Suggests a highest standard, a definitive procedure, or a peak achievement.\n",
       "    *   **Vanguard Initiative:** Implies leading the way, pioneering, or being at the forefront.\n",
       "    *   **Syntropy Engine:** (Syntropy is the opposite of entropy, tending towards order and organization) \u2013 Suggests bringing things together, creating order, or a powerful organizing force."
      ]
     },
     "metadata": {},
     "output_type": "display_data"
    }
   ],
   "source": [
    "const post_its_video_analysis = await ai.models.generateContent({\n",
    "  model: MODEL_ID,\n",
    "  contents: [\n",
    "    \"Transcribe the sticky notes, organize them and put it in a table. Can you come up with a few more ideas?\",\n",
    "    google.createPartFromUri(post_its_video.uri ?? \"\", post_its_video.mimeType ?? \"\"),\n",
    "  ],\n",
    "});\n",
    "tslab.display.markdown(post_its_video_analysis.text ?? \"\");\n"
   ]
  },
  {
   "attachments": {},
   "cell_type": "markdown",
   "metadata": {},
   "source": [
    "## Structure information\n",
    "\n",
    "Gemini 2.0 is not only able to read text but also to reason and structure about real world objects. Like in this video about a display of ceramics with handwritten prices and notes.\n"
   ]
  },
  {
   "cell_type": "code",
   "execution_count": 14,
   "metadata": {},
   "outputs": [
    {
     "data": {
      "text/markdown": [
       "Here is a detailed table of the items and notes from your image:\n",
       "\n",
       "| Item Type      | Quantity | Description / Notes                               | Dimensions                       | Price        |\n",
       "| :------------- | :------- | :------------------------------------------------ | :------------------------------- | :----------- |\n",
       "| **Tumblers**   | 7        | Glaze: #5 Artichoke double dip                   | Approximately 4\"h x 3\"d          | \\$20 each    |\n",
       "| **Small Bowls** | 2        | Glaze: Brown speckled with dark interior accents | 3.5\"h x 6.5\"d                   | \\$35 each    |\n",
       "| **Medium Bowls**| 2        | Glaze: Brown speckled with dark interior accents | 4\"h x 7\"d                       | \\$40 each    |\n",
       "| **Glaze Test Tile**| 1        | Glaze: #5 Artichoke double dip                   | Small, flat, irregular shape     | N/A (sample) |\n",
       "| **Glaze Test Tile**| 1        | Glaze: #6 Gemini double dip (labeled 6b on tile) | Small, flat, rectangular shape | N/A (sample) |\n",
       "|                |          | **Firing Note:** SLOW COOL                        |                                  |              |\n",
       "\n",
       "**Summary of Items:**\n",
       "\n",
       "*   There are 7 tumblers, priced at \\$20 each, featuring an \"#5 Artichoke double dip\" glaze and measuring approximately 4 inches high by 3 inches in diameter.\n",
       "*   There are 2 small bowls, priced at \\$35 each, measuring 3.5 inches high by 6.5 inches in diameter, with a brown speckled glaze.\n",
       "*   There are 2 medium bowls, priced at \\$40 each, measuring 4 inches high by 7 inches in diameter, also with a brown speckled glaze.\n",
       "*   Two glaze test tiles are present: one for the \"#5 Artichoke double dip\" glaze and another for a \"#6 Gemini double dip\" glaze, noting \"SLOW COOL\" as a firing instruction for the latter."
      ]
     },
     "metadata": {},
     "output_type": "display_data"
    }
   ],
   "source": [
    "const pottery_video_analysis = await ai.models.generateContent({\n",
    "  model: MODEL_ID,\n",
    "  contents: [\n",
    "    \"Give me a detailed table of my items and notes\",\n",
    "    google.createPartFromUri(pottery_video.uri ?? \"\", pottery_video.mimeType ?? \"\"),\n",
    "  ],\n",
    "  config: {\n",
    "    systemInstruction: \"Don't forget to escape the dollar signs\",\n",
    "  },\n",
    "});\n",
    "tslab.display.markdown(pottery_video_analysis.text ?? \"\");\n"
   ]
  },
  {
   "attachments": {},
   "cell_type": "markdown",
   "metadata": {},
   "source": [
    "## Analyze screen recordings for key moments\n",
    "\n",
    "You can also use the model to analyze screen recordings. Let's say you're doing user studies on how people use your product, so you end up with lots of screen recordings, like this one, that you have to manually comb through. With just one prompt, the model can describe all the actions in your video.\n"
   ]
  },
  {
   "cell_type": "code",
   "execution_count": 15,
   "metadata": {},
   "outputs": [
    {
     "data": {
      "text/markdown": [
       "This video demonstrates the core functionalities of the \"My Garden App,\" showcasing a plant shopping interface where users can browse various plants with their prices and descriptions. [0:00-0:09] Users interact with the app by \"Liking\" plants, which changes the button color, and \"Adding to Cart,\" which provides a quick \"Added!\" confirmation. [0:09-0:25] The application effectively tracks these actions, as seen when navigating to the \"Shopping Cart\" tab which lists added items like Fern, Cactus, and Hibiscus with a running total. [0:30-0:33] Finally, the \"Profile\" section provides a summary of user activity, displaying the total number of liked plants and items currently in the cart. [0:33-0:35]"
      ]
     },
     "metadata": {},
     "output_type": "display_data"
    }
   ],
   "source": [
    "const user_study_video_analysis = await ai.models.generateContent({\n",
    "  model: MODEL_ID,\n",
    "  contents: [\n",
    "    \"Generate a paragraph that summarizes this video. Keep it to 3 to 5 sentences with corresponding timecodes.\",\n",
    "    google.createPartFromUri(user_study_video.uri ?? \"\", user_study_video.mimeType ?? \"\"),\n",
    "  ],\n",
    "});\n",
    "tslab.display.markdown(user_study_video_analysis.text ?? \"\");\n"
   ]
  },
  {
   "attachments": {},
   "cell_type": "markdown",
   "metadata": {},
   "source": [
    "## Analyze youtube videos\n",
    "\n",
    "On top of using your own videos you can also ask Gemini to get a video from Youtube and analyze it. He's an example using the keynote from Google IO 2023. Guess what the main theme was?\n"
   ]
  },
  {
   "cell_type": "code",
   "execution_count": 16,
   "metadata": {},
   "outputs": [
    {
     "data": {
      "text/markdown": [
       "Here are all the instances where Sundar Pichai says \"AI\", along with their timestamps and broader context:\n",
       "\n",
       "1.  **0:29** \"As you may have heard, **AI** is having a very busy year.\"\n",
       "    *   **Context:** Sundar is opening his keynote speech at Google I/O, remarking on the current surge in AI activity.\n",
       "\n",
       "2.  **0:39** \"Seven years into our journey as an **AI** first company, we are at an exciting inflection point.\"\n",
       "    *   **Context:** He's emphasizing Google's long-term commitment to AI, stating that it's been foundational to their operations for seven years and they're now at a crucial stage.\n",
       "\n",
       "3.  **0:45** \"We have an opportunity to make **AI** even more helpful for people, for businesses, for communities, for everyone.\"\n",
       "    *   **Context:** He's highlighting the broad potential of AI to benefit various aspects of society and user groups.\n",
       "\n",
       "4.  **0:54** \"We've been applying **AI** to make our products radically more helpful for a while.\"\n",
       "    *   **Context:** He mentions Google's history of integrating AI into its products for enhanced utility.\n",
       "\n",
       "5.  **0:59** \"With generative **AI**, we are taking the next step.\"\n",
       "    *   **Context:** He's introducing the focus on generative AI and how it represents a significant leap forward for Google's product development.\n",
       "\n",
       "6.  **1:17** \"Let me start with few examples of how generative **AI** is helping to evolve our products, starting with Gmail.\"\n",
       "    *   **Context:** He transitions to showcasing specific product examples, beginning with Gmail, that demonstrate the evolution driven by generative AI.\n",
       "\n",
       "7.  **1:41** \"Smart Compose led to more advanced writing features powered by **AI**.\"\n",
       "    *   **Context:** He's explaining the progression of AI-powered features in Workspace, from Smart Reply to Smart Compose, and their widespread usage.\n",
       "\n",
       "8.  **3:03** \"Since the early days of Street View, **AI** has stitched together billions of panoramic images, so people can explore the world from their device.\"\n",
       "    *   **Context:** He's talking about Google Maps and how AI has been instrumental in creating immersive experiences like Street View.\n",
       "\n",
       "9.  **3:14** \"At last year's I/O, we introduced Immersive View, which uses **AI** to create a high fidelity representation of a place, so you can experience it before you visit.\"\n",
       "    *   **Context:** He describes how AI is used in Immersive View to provide realistic virtual tours of locations in Maps.\n",
       "\n",
       "10. **5:08** \"Another product made better by **AI** is Google Photos.\"\n",
       "    *   **Context:** He introduces Google Photos as another example of an AI-enhanced product.\n",
       "\n",
       "11. **5:16** \"It was one of our first **AI** native products.\"\n",
       "    *   **Context:** He specifies Google Photos' early integration of AI from its inception.\n",
       "\n",
       "12. **5:40** \"**AI** advancements give us more powerful ways to do this.\"\n",
       "    *   **Context:** He's talking about how new AI advancements are enabling more sophisticated photo editing capabilities in Google Photos.\n",
       "\n",
       "13. **5:48** \"Magic Eraser, launched first on Pixel, uses **AI**-powered computational photography to remove unwanted distractions.\"\n",
       "    *   **Context:** He explains the technology behind Magic Eraser in Google Photos, highlighting its AI foundation.\n",
       "\n",
       "14. **7:43** \"These are just a few examples of how **AI** can help you in moments that matter.\"\n",
       "    *   **Context:** He summarizes the product demonstrations, emphasizing the practical and meaningful applications of AI.\n",
       "\n",
       "15. **7:49** \"And there is so much more we can do to deliver the full potential of **AI** across the products you know and love.\"\n",
       "    *   **Context:** He reaffirms Google's ongoing commitment to expanding AI capabilities across its entire product ecosystem.\n",
       "\n",
       "16. **8:24** \"Making **AI** helpful for everyone is the most profound way we will advance our mission.\"\n",
       "    *   **Context:** He states Google's overarching goal for AI: to make it universally beneficial.\n",
       "\n",
       "17. **8:53** \"And finally, by building and deploying **AI** responsibly, so that everyone can benefit equally.\"\n",
       "    *   **Context:** He outlines the four key ways Google is making AI helpful for everyone, with responsible deployment being the last point.\n",
       "\n",
       "18. **9:03** \"Our ability to make **AI** helpful for everyone relies on continuously advancing our foundation models.\"\n",
       "    *   **Context:** He connects the goal of helpful AI to the foundational research and development of AI models.\n",
       "\n",
       "19. **10:25** \"It's also trained on multilingual text spanning over 100 languages, so it understands and generates nuanced results. Combined with powerful coding capabilities, PaLM 2 can also help developers collaborating around the world.\"\n",
       "    *   **Context:** He's explaining the advanced training and capabilities of PaLM 2, Google's latest large language model, which is an AI.\n",
       "\n",
       "20. **11:27** \"It uses **AI** to better detect malicious scripts and can help security experts understand and resolve threats.\"\n",
       "    *   **Context:** He's detailing how Sec-PaLM, an AI model, is being used for cybersecurity.\n",
       "\n",
       "21. **12:47** \"PaLM 2 is the latest step in our decade-long journey to bring **AI** in responsible ways to billions of people.\"\n",
       "    *   **Context:** He reiterates the long-term vision of making AI accessible and beneficial to a global audience.\n",
       "\n",
       "22. **12:53** \"It builds on progress made by two world-class teams, the Brain Team and DeepMind. Looking back at the defining **AI** breakthroughs over the last decade, these teams have contributed to a significant number of them.\"\n",
       "    *   **Context:** He acknowledges the history of Google's AI research and the key teams that have driven breakthroughs.\n",
       "\n",
       "23. **13:10** \"All this helps set the stage for the inflection point we are at today. We recently brought these two teams together into a single unit, Google DeepMind, using the computational resources of Google, they are focused on building more capable systems safely and responsibly. This includes our next generation foundation model, Gemini, which is still in training. Gemini was created from the ground up to be multimodal, highly efficient at tool and API integrations, and built to enable future innovations like memory and planning. While still early, we are already seeing impressive multimodal capabilities not seen in prior models. Once fine-tuned and rigorously tested for safety, Gemini will be available at various sizes and capabilities, just like PaLM 2. As we invest in more advanced models, we are also deeply investing in **AI** responsibility.\"\n",
       "    *   **Context:** Sundar discusses the merger of Google Brain and DeepMind into Google DeepMind, their focus on building more capable AI systems, and the ongoing development of Gemini. He emphasizes the commitment to responsible AI development.\n",
       "\n",
       "24. **15:11** \"James will talk about our responsible approach to **AI** later.\"\n",
       "    *   **Context:** He refers to a segment by another speaker who will delve deeper into Google's approach to AI ethics and responsibility.\n",
       "\n",
       "25. **15:18** \"As models get better and more capable, one of the most exciting opportunities is making them available for people to engage with directly. That's the opportunity we have with Bard, our experiment for conversational **AI**.\"\n",
       "    *   **Context:** He speaks about the increasing capabilities of AI models and the opportunity to make them directly available to users through interfaces like Bard."
      ]
     },
     "metadata": {},
     "output_type": "display_data"
    }
   ],
   "source": [
    "const youtube_video_analysis = await ai.models.generateContent({\n",
    "  model: MODEL_ID,\n",
    "  contents: [\n",
    "    'Find all the instances where Sundar says \"AI\". Provide timestamps and broader context for each instance.',\n",
    "    google.createPartFromUri(\"https://www.youtube.com/watch?v=ixRanV-rdAQ\", \"video/x-youtube\"),\n",
    "  ],\n",
    "});\n",
    "tslab.display.markdown(youtube_video_analysis.text ?? \"\");\n"
   ]
  },
  {
   "attachments": {},
   "cell_type": "markdown",
   "metadata": {},
   "source": [
    "## Customizing video preprocessing\n",
    "\n",
    "The Gemini API allows you to define some preprocessing steps to enhance your abilities to understand and extract information from videos.\n",
    "\n",
    "You can use clipping intervals (or define time offsets to focus on specific video parts) and custom FPS (to define how many frames will be considered to analyze the video.\n",
    "\n",
    "For more details about those features, you can take a look at the [Customizing video preprocessing](https://ai.google.dev/gemini-api/docs/video-understanding#customize-video-preprocessing) at the Gemini API documentation.\n"
   ]
  },
  {
   "attachments": {},
   "cell_type": "markdown",
   "metadata": {},
   "source": [
    "## Analyze specific parts of videos using clipping intervals\n",
    "\n",
    "Sometimes you want to look for specific parts of your videos. You can define time offsets on your request, pointing to the model which specific video interval you are more interested about.\n",
    "\n",
    ":::{.callout-note}\n",
    "\n",
    "The [`VideoMetadata`](https://googleapis.github.io/js-genai/release_docs/interfaces/types.VideoMetadata.html) that you will inform must be representing the time offsets in seconds.\n",
    "\n",
    ":::\n",
    "\n",
    "In this example, you are using this video, from [Google I/O 2024 keynote](https://www.youtube.com/watch?v=WsEQjeZoEng) and asking the model to consider specifically the time offset between 1min40s and 5min.\n"
   ]
  },
  {
   "cell_type": "code",
   "execution_count": 29,
   "metadata": {},
   "outputs": [
    {
     "data": {
      "text/markdown": [
       "Google I/O 2024 showcased the deep integration of its Gemini AI across its vast product ecosystem. Major announcements included the expanded multimodal capabilities and significantly larger context windows of Gemini 1.5 Pro, the real-time AI agent \"Project Astra,\" and the efficient Gemini 1.5 Flash. These advancements aim to deliver more intuitive and powerful AI experiences across Google Workspace, Search, Android, and creative tools, alongside a commitment to responsible AI development."
      ]
     },
     "metadata": {},
     "output_type": "display_data"
    }
   ],
   "source": [
    "import { VideoMetadata } from \"@google/genai\";\n",
    "\n",
    "const video_metadata: VideoMetadata = {\n",
    "  startOffset: \"100s\",\n",
    "  endOffset: \"300s\",\n",
    "};\n",
    "\n",
    "const clipping_intervals_video_analysis = await ai.models.generateContent({\n",
    "  model: MODEL_ID,\n",
    "  contents: [\n",
    "    {\n",
    "      ...google.createPartFromUri(\"https://www.youtube.com/watch?v=WsEQjeZoEng\", \"video/x-youtube\"),\n",
    "      videoMetadata: video_metadata,\n",
    "    },\n",
    "    \"Please summarize the video in 3 sentences\",\n",
    "  ],\n",
    "});\n",
    "tslab.display.markdown(clipping_intervals_video_analysis.text ?? \"\");\n"
   ]
  },
  {
   "cell_type": "code",
   "execution_count": 21,
   "metadata": {},
   "outputs": [
    {
     "data": {
      "text/markdown": [
       "Here's a summary of the video:\n",
       "\n",
       "*   **0:00 - 0:04**: A bobcat quickly crosses the frame, its eyes reflecting the camera's light.\n",
       "*   **0:05 - 0:09**: Another bobcat quickly crosses the frame.\n",
       "*   **0:10 - 0:13**: A third bobcat quickly crosses the frame.\n",
       "*   **0:14 - 0:17**: A fourth bobcat quickly crosses the frame.\n",
       "*   **0:20 - 0:29**: Two large mountain lions appear, walking past the camera.\n",
       "*   **0:35 - 0:39**: A bobcat quickly crosses the frame.\n",
       "*   **0:40 - 0:44**: Another bobcat quickly crosses the frame.\n",
       "*   **0:45 - 0:49**: Another bobcat quickly crosses the frame.\n",
       "*   **0:50 - 0:54**: A mountain lion quickly passes by.\n",
       "*   **1:00 - 1:03**: A bobcat approaches the camera, its eyes glowing, and then quickly retreats.\n",
       "*   **1:04 - 1:16**: A mountain lion walks into the frame, pauses, and then continues on its way.\n",
       "*   **1:17 - 1:28**: Two mountain lions appear, one walking past the camera closer to the foreground, followed by the other.\n",
       "*   **1:29 - 1:51**: A bobcat pauses in the frame, sniffing the ground and looking around before exiting.\n",
       "*   **1:51 - 1:56**: A large black bear walks slowly past the camera.\n",
       "*   **1:57 - 2:02**: A mountain lion walks quickly past the camera."
      ]
     },
     "metadata": {},
     "output_type": "display_data"
    }
   ],
   "source": [
    "import { VideoMetadata } from \"@google/genai\";\n",
    "\n",
    "const video_metadata_2: VideoMetadata = {\n",
    "  startOffset: \"60s\",\n",
    "  endOffset: \"120s\",\n",
    "};\n",
    "\n",
    "const clipping_intervals_video_analysis_2 = await ai.models.generateContent({\n",
    "  model: MODEL_ID,\n",
    "  contents: [\n",
    "    {\n",
    "      ...google.createPartFromUri(trailcam_video.uri ?? \"\", trailcam_video.mimeType ?? \"\"),\n",
    "      videoMetadata: video_metadata_2,\n",
    "    },\n",
    "    \"Summarize this video in few short bullets with timestamps.\",\n",
    "  ],\n",
    "});\n",
    "tslab.display.markdown(clipping_intervals_video_analysis_2.text ?? \"\");\n"
   ]
  },
  {
   "attachments": {},
   "cell_type": "markdown",
   "metadata": {},
   "source": [
    "## Customize the number of video frames per second (FPS) analyzed\n",
    "\n",
    "By default, the Gemini API extract 1 (one) FPS to analyze your videos. But this amount may be too much (for videos with less activities, like a lecture) or to preserve more detail in fast-changing visuals, a higher FPS should be selected.\n",
    "\n",
    "In this scenario, you are using one specific interval of one Nascar pit-stop as also you will capture a higher number of FPS (in this case, 24 FPS).\n"
   ]
  },
  {
   "cell_type": "code",
   "execution_count": 22,
   "metadata": {},
   "outputs": [
    {
     "data": {
      "text/markdown": [
       "The pit crew changed **all four tires** on the car, which includes both the **front and rear tires**."
      ]
     },
     "metadata": {},
     "output_type": "display_data"
    }
   ],
   "source": [
    "import { VideoMetadata } from \"@google/genai\";\n",
    "\n",
    "const video_metadata_3: VideoMetadata = {\n",
    "  startOffset: \"15s\",\n",
    "  endOffset: \"35s\",\n",
    "  fps: 24,\n",
    "};\n",
    "\n",
    "const fps_video_analysis = await ai.models.generateContent({\n",
    "  model: MODEL_ID,\n",
    "  contents: [\n",
    "    {\n",
    "      ...google.createPartFromUri(\"https://www.youtube.com/watch?v=McN0-DpyHzE\", \"video/x-youtube\"),\n",
    "      videoMetadata: video_metadata_3,\n",
    "    },\n",
    "    \"How many tires where changed? Front tires or rear tires?\",\n",
    "  ],\n",
    "});\n",
    "tslab.display.markdown(fps_video_analysis.text ?? \"\");\n"
   ]
  },
  {
   "attachments": {},
   "cell_type": "markdown",
   "metadata": {},
   "source": [
    "Once again, you can check the [live demo on AI Studio](https://aistudio.google.com/starter-apps/video) shows an example on how to postprocess this output. Check the [code of that demo](https://github.com/google-gemini/starter-applets/tree/main/video) for more details.\n"
   ]
  },
  {
   "attachments": {},
   "cell_type": "markdown",
   "metadata": {},
   "source": [
    "## Next Steps\n",
    "\n",
    "Try with you own videos using the [AI Studio's live demo](https://aistudio.google.com/starter-apps/video) or play with the examples from this notebook (in case you haven't seen, there are other prompts you can try in the dropdowns).\n",
    "\n",
    "For more examples of the Gemini capabilities, check the other guide from the Cookbook. You'll learn how to use the [Live API](Get_started_LiveAPI.ipynb), juggle with [multiple tools](Get_started_LiveAPI_tools.ipynb) or use Gemini 2.0 [spatial understanding](Spatial_understanding.ipynb) abilities.\n",
    "\n",
    "The examples folder from the cookbook is also full of nice code samples illustrating creative ways to use Gemini multimodal capabilities and long-context.\n"
   ]
  }
 ],
 "metadata": {
  "kernelspec": {
   "display_name": "TypeScript",
   "language": "typescript",
   "name": "tslab"
  },
  "language_info": {
   "codemirror_mode": {
    "mode": "typescript",
    "name": "javascript",
    "typescript": true
   },
   "file_extension": ".ts",
   "mimetype": "text/typescript",
   "name": "typescript",
   "version": "3.7.2"
  },
  "orig_nbformat": 4
 },
 "nbformat": 4,
 "nbformat_minor": 2
}
